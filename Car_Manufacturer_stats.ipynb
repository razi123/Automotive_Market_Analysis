{
 "cells": [
  {
   "cell_type": "code",
   "execution_count": 90,
   "metadata": {},
   "outputs": [],
   "source": [
    "import pandas as pd\n",
    "import numpy as np\n",
    "import re\n",
    "import matplotlib.pyplot as plt\n",
    "import seaborn as sns"
   ]
  },
  {
   "cell_type": "code",
   "execution_count": 2,
   "metadata": {},
   "outputs": [],
   "source": [
    "pd.set_option('display.max_rows', None)\n",
    "pd.set_option('display.max_columns', None)\n",
    "pd.set_option('display.width', None)\n",
    "pd.set_option('display.max_colwidth', None)"
   ]
  },
  {
   "cell_type": "code",
   "execution_count": 3,
   "metadata": {},
   "outputs": [],
   "source": [
    "auto_xls = pd.read_excel('automotive.xlsx')\n",
    "#auto_csv = pd.read_csv('automotive_csv.csv', encoding = 'latin-1')"
   ]
  },
  {
   "cell_type": "code",
   "execution_count": 4,
   "metadata": {},
   "outputs": [
    {
     "data": {
      "text/html": [
       "<div>\n",
       "<style scoped>\n",
       "    .dataframe tbody tr th:only-of-type {\n",
       "        vertical-align: middle;\n",
       "    }\n",
       "\n",
       "    .dataframe tbody tr th {\n",
       "        vertical-align: top;\n",
       "    }\n",
       "\n",
       "    .dataframe thead th {\n",
       "        text-align: right;\n",
       "    }\n",
       "</style>\n",
       "<table border=\"1\" class=\"dataframe\">\n",
       "  <thead>\n",
       "    <tr style=\"text-align: right;\">\n",
       "      <th></th>\n",
       "      <th>id</th>\n",
       "      <th>url</th>\n",
       "      <th>region</th>\n",
       "      <th>region_url</th>\n",
       "      <th>price</th>\n",
       "      <th>year</th>\n",
       "      <th>manufacturer</th>\n",
       "      <th>model</th>\n",
       "      <th>condition</th>\n",
       "      <th>cylinders</th>\n",
       "      <th>fuel</th>\n",
       "      <th>odometer</th>\n",
       "      <th>title_status</th>\n",
       "      <th>transmission</th>\n",
       "      <th>VIN</th>\n",
       "      <th>drive</th>\n",
       "      <th>size</th>\n",
       "      <th>type</th>\n",
       "      <th>paint_color</th>\n",
       "      <th>image_url</th>\n",
       "      <th>description</th>\n",
       "      <th>county</th>\n",
       "      <th>state</th>\n",
       "      <th>lat</th>\n",
       "      <th>long</th>\n",
       "      <th>posting_date</th>\n",
       "      <th>Unnamed: 26</th>\n",
       "      <th>Unnamed: 27</th>\n",
       "      <th>Unnamed: 28</th>\n",
       "      <th>Unnamed: 29</th>\n",
       "      <th>Unnamed: 30</th>\n",
       "      <th>Unnamed: 31</th>\n",
       "      <th>Unnamed: 32</th>\n",
       "      <th>Unnamed: 33</th>\n",
       "      <th>Unnamed: 34</th>\n",
       "      <th>Unnamed: 35</th>\n",
       "      <th>Unnamed: 36</th>\n",
       "      <th>Unnamed: 37</th>\n",
       "      <th>Unnamed: 38</th>\n",
       "      <th>Unnamed: 39</th>\n",
       "      <th>Unnamed: 40</th>\n",
       "      <th>Unnamed: 41</th>\n",
       "      <th>Unnamed: 42</th>\n",
       "      <th>Unnamed: 43</th>\n",
       "      <th>Unnamed: 44</th>\n",
       "      <th>Unnamed: 45</th>\n",
       "      <th>Unnamed: 46</th>\n",
       "      <th>Unnamed: 47</th>\n",
       "      <th>Unnamed: 48</th>\n",
       "      <th>Unnamed: 49</th>\n",
       "      <th>Unnamed: 50</th>\n",
       "      <th>Unnamed: 51</th>\n",
       "      <th>Unnamed: 52</th>\n",
       "      <th>Unnamed: 53</th>\n",
       "      <th>Unnamed: 54</th>\n",
       "      <th>Unnamed: 55</th>\n",
       "      <th>Unnamed: 56</th>\n",
       "      <th>Unnamed: 57</th>\n",
       "      <th>Unnamed: 58</th>\n",
       "      <th>Unnamed: 59</th>\n",
       "      <th>Unnamed: 60</th>\n",
       "      <th>Unnamed: 61</th>\n",
       "      <th>Unnamed: 62</th>\n",
       "      <th>Unnamed: 63</th>\n",
       "    </tr>\n",
       "  </thead>\n",
       "  <tbody>\n",
       "    <tr>\n",
       "      <th>0</th>\n",
       "      <td>7315388495</td>\n",
       "      <td>https://medford.craigslist.org/ctd/d/topawa-2014-nissan-versa-plus-sedan/7315388495.html</td>\n",
       "      <td>medford-ashland</td>\n",
       "      <td>https://medford.craigslist.org</td>\n",
       "      <td>6888</td>\n",
       "      <td>2014</td>\n",
       "      <td>nissan</td>\n",
       "      <td>versa splus</td>\n",
       "      <td>like new</td>\n",
       "      <td>4 cylinders</td>\n",
       "      <td>gas</td>\n",
       "      <td>91088</td>\n",
       "      <td>clean</td>\n",
       "      <td>automatic</td>\n",
       "      <td>3N1CN7AP7EL850675</td>\n",
       "      <td>fwd</td>\n",
       "      <td>compact</td>\n",
       "      <td>sedan</td>\n",
       "      <td>black</td>\n",
       "      <td>https://images.craigslist.org/00q0q_5st033GWtInz_0ew0jm_600x450.jpg</td>\n",
       "      <td>2014 Nissan Versa S Plus 4 D Sedan. Nice and running good. Must look. Our Dealership number DL0948 and located at 522 S Central Ave Medford OR97501. Please call Matt 323-916-7888 or 458-226-2020 for Benny.</td>\n",
       "      <td>NaN</td>\n",
       "      <td>or</td>\n",
       "      <td>31610808</td>\n",
       "      <td>-112248414</td>\n",
       "      <td>2021-05-01T10:36:33-0700</td>\n",
       "      <td>NaN</td>\n",
       "      <td>NaN</td>\n",
       "      <td>NaN</td>\n",
       "      <td>NaN</td>\n",
       "      <td>NaN</td>\n",
       "      <td>NaN</td>\n",
       "      <td>NaN</td>\n",
       "      <td>NaN</td>\n",
       "      <td>NaN</td>\n",
       "      <td>NaN</td>\n",
       "      <td>NaN</td>\n",
       "      <td>NaN</td>\n",
       "      <td>NaN</td>\n",
       "      <td>NaN</td>\n",
       "      <td>NaN</td>\n",
       "      <td>NaN</td>\n",
       "      <td>NaN</td>\n",
       "      <td>NaN</td>\n",
       "      <td>NaN</td>\n",
       "      <td>NaN</td>\n",
       "      <td>NaN</td>\n",
       "      <td>NaN</td>\n",
       "      <td>NaN</td>\n",
       "      <td>NaN</td>\n",
       "      <td>NaN</td>\n",
       "      <td>NaN</td>\n",
       "      <td>NaN</td>\n",
       "      <td>NaN</td>\n",
       "      <td>NaN</td>\n",
       "      <td>NaN</td>\n",
       "      <td>NaN</td>\n",
       "      <td>NaN</td>\n",
       "      <td>NaN</td>\n",
       "      <td>NaN</td>\n",
       "      <td>NaN</td>\n",
       "      <td>NaN</td>\n",
       "      <td>NaN</td>\n",
       "      <td>NaN</td>\n",
       "    </tr>\n",
       "    <tr>\n",
       "      <th>1</th>\n",
       "      <td>7315387590</td>\n",
       "      <td>https://medford.craigslist.org/cto/d/medford-award-winning-1965-mustang/7315387590.html</td>\n",
       "      <td>medford-ashland</td>\n",
       "      <td>https://medford.craigslist.org</td>\n",
       "      <td>19500</td>\n",
       "      <td>1965</td>\n",
       "      <td>ford</td>\n",
       "      <td>mustang</td>\n",
       "      <td>excellent</td>\n",
       "      <td>8 cylinders</td>\n",
       "      <td>gas</td>\n",
       "      <td>73500</td>\n",
       "      <td>clean</td>\n",
       "      <td>automatic</td>\n",
       "      <td>NaN</td>\n",
       "      <td>rwd</td>\n",
       "      <td>mid-size</td>\n",
       "      <td>coupe</td>\n",
       "      <td>red</td>\n",
       "      <td>https://images.craigslist.org/00s0s_12aake5jYXXz_0ak07K_600x450.jpg</td>\n",
       "      <td>VERY SWEET 65 MUSTANG WITH LOW MILES. HAS POWER STEERING, POWER DISC BRAKES. MOSTLY NEW CONDITION. RESTORED. EXCELLENT PAINT, BODY AND FRAME. SO.CALIF. BLACK PLATE NO RUST. A JOY TO DRIVE. SENIOR OWNED AND DRIVEN. ORIGINAL 289 W/C/4 AUTO. 19,500 FIRM. NO TRADES.</td>\n",
       "      <td>NaN</td>\n",
       "      <td>or</td>\n",
       "      <td>42343411</td>\n",
       "      <td>-12283449</td>\n",
       "      <td>2021-05-01T10:35:03-0700</td>\n",
       "      <td>NaN</td>\n",
       "      <td>NaN</td>\n",
       "      <td>NaN</td>\n",
       "      <td>NaN</td>\n",
       "      <td>NaN</td>\n",
       "      <td>NaN</td>\n",
       "      <td>NaN</td>\n",
       "      <td>NaN</td>\n",
       "      <td>NaN</td>\n",
       "      <td>NaN</td>\n",
       "      <td>NaN</td>\n",
       "      <td>NaN</td>\n",
       "      <td>NaN</td>\n",
       "      <td>NaN</td>\n",
       "      <td>NaN</td>\n",
       "      <td>NaN</td>\n",
       "      <td>NaN</td>\n",
       "      <td>NaN</td>\n",
       "      <td>NaN</td>\n",
       "      <td>NaN</td>\n",
       "      <td>NaN</td>\n",
       "      <td>NaN</td>\n",
       "      <td>NaN</td>\n",
       "      <td>NaN</td>\n",
       "      <td>NaN</td>\n",
       "      <td>NaN</td>\n",
       "      <td>NaN</td>\n",
       "      <td>NaN</td>\n",
       "      <td>NaN</td>\n",
       "      <td>NaN</td>\n",
       "      <td>NaN</td>\n",
       "      <td>NaN</td>\n",
       "      <td>NaN</td>\n",
       "      <td>NaN</td>\n",
       "      <td>NaN</td>\n",
       "      <td>NaN</td>\n",
       "      <td>NaN</td>\n",
       "      <td>NaN</td>\n",
       "    </tr>\n",
       "    <tr>\n",
       "      <th>2</th>\n",
       "      <td>7315378954</td>\n",
       "      <td>https://medford.craigslist.org/cto/d/medford-2008-toyota-tacoma-only-110k/7315378954.html</td>\n",
       "      <td>medford-ashland</td>\n",
       "      <td>https://medford.craigslist.org</td>\n",
       "      <td>16600</td>\n",
       "      <td>2008</td>\n",
       "      <td>toyota</td>\n",
       "      <td>tacoma xtra cab</td>\n",
       "      <td>good</td>\n",
       "      <td>4 cylinders</td>\n",
       "      <td>gas</td>\n",
       "      <td>110000</td>\n",
       "      <td>clean</td>\n",
       "      <td>manual</td>\n",
       "      <td>NaN</td>\n",
       "      <td>4wd</td>\n",
       "      <td>NaN</td>\n",
       "      <td>pickup</td>\n",
       "      <td>black</td>\n",
       "      <td>https://images.craigslist.org/00808_2iPAZZCx7NJz_0CI0t2_600x450.jpg</td>\n",
       "      <td>Original owner well cared for Only 110k miles 4 cyl  5 speed manual New tires, new brakes, new front bearing! Just needs a driver Never been in an accident 4x4 Askin16,600.00 Jake 541â€“eight649616</td>\n",
       "      <td>NaN</td>\n",
       "      <td>or</td>\n",
       "      <td>42287</td>\n",
       "      <td>-122928</td>\n",
       "      <td>2021-05-01T10:21:06-0700</td>\n",
       "      <td>NaN</td>\n",
       "      <td>NaN</td>\n",
       "      <td>NaN</td>\n",
       "      <td>NaN</td>\n",
       "      <td>NaN</td>\n",
       "      <td>NaN</td>\n",
       "      <td>NaN</td>\n",
       "      <td>NaN</td>\n",
       "      <td>NaN</td>\n",
       "      <td>NaN</td>\n",
       "      <td>NaN</td>\n",
       "      <td>NaN</td>\n",
       "      <td>NaN</td>\n",
       "      <td>NaN</td>\n",
       "      <td>NaN</td>\n",
       "      <td>NaN</td>\n",
       "      <td>NaN</td>\n",
       "      <td>NaN</td>\n",
       "      <td>NaN</td>\n",
       "      <td>NaN</td>\n",
       "      <td>NaN</td>\n",
       "      <td>NaN</td>\n",
       "      <td>NaN</td>\n",
       "      <td>NaN</td>\n",
       "      <td>NaN</td>\n",
       "      <td>NaN</td>\n",
       "      <td>NaN</td>\n",
       "      <td>NaN</td>\n",
       "      <td>NaN</td>\n",
       "      <td>NaN</td>\n",
       "      <td>NaN</td>\n",
       "      <td>NaN</td>\n",
       "      <td>NaN</td>\n",
       "      <td>NaN</td>\n",
       "      <td>NaN</td>\n",
       "      <td>NaN</td>\n",
       "      <td>NaN</td>\n",
       "      <td>NaN</td>\n",
       "    </tr>\n",
       "    <tr>\n",
       "      <th>3</th>\n",
       "      <td>7315378371</td>\n",
       "      <td>https://medford.craigslist.org/ctd/d/portland-2018-ford-350-4x4-4wd-f350/7315378371.html</td>\n",
       "      <td>medford-ashland</td>\n",
       "      <td>https://medford.craigslist.org</td>\n",
       "      <td>0</td>\n",
       "      <td>2018</td>\n",
       "      <td>ford</td>\n",
       "      <td>f-350</td>\n",
       "      <td>NaN</td>\n",
       "      <td>8 cylinders</td>\n",
       "      <td>gas</td>\n",
       "      <td>47400</td>\n",
       "      <td>clean</td>\n",
       "      <td>automatic</td>\n",
       "      <td>1FT8W3B67JEB76679</td>\n",
       "      <td>4wd</td>\n",
       "      <td>NaN</td>\n",
       "      <td>truck</td>\n",
       "      <td>NaN</td>\n",
       "      <td>https://images.craigslist.org/00303_bBKG78Zb11Wz_0cU09G_600x450.jpg</td>\n",
       "      <td>Sunrise Auto Sales Truck Shopping Simplified !!Â  Â Â Â Â Â ðŸ’¥ Buy Now :  3 Months with No Payments*Â Â    $0 Down Payment Required*   Â Rates as Low as 2.79% up to 84 Months*   Trades welcome no matter how much you owe*  *on approved credit, Advantis c.u tier one credit, not everyone qualifies. Â Â  Try our Delivery Service , No Risk , No ObligationÂ  Ask us how it works?SUNRISE AUTO SALES HAS BEEN DEDICATED TO CUSTOMER SERVICE AND QUALITY VEHICLES SINCE OUR INCEPTION IN 2004. OUR PASSION TO SERVE WILL FOSTER UNPARALLELED RELATIONSHIPS WITH OUR CLIENTS AND COMMUNITY.  TRUCK SHOPPING AMIDST COVID-19/CORONAVIRUS:Â  Â Online Ordering, Free No-Obligation Delivery,Â  As we face and deal with the challenges from the coronavirus, Sunrise is committed to providing top tier customer service experience you demand. The health and well being of our customers, employees, as well as the community are our top priority. We want to do everything we can to help slow the spread and transmission of the virus.Â  Social Distancing is recommended by The Centers for Disease Control &amp; Prevention (CDC) and we have implemented new measures to protect our clients and employees.Â Â  Here is what we are doing for customers : FREE NATIONWIDE AND LOCAL NO-Obligation delivery Let us get you the photos and videos for you! Remote Express Purchasing available to both local and out of state buyers The health and safety of our employees and our customers are our number one priority. Please donâ€™t hesitate to reach out to us with questions.  Â Â Â Â Â Â Â STOCK #:Â  B76679Â  (*2018* *Ford* *F-350*)  Â Â Â Â Â Â Â Â Â CALL TODAY!Â  Â  ðŸ“ž ðŸ“² (503) 782-5660ðŸ“² ðŸ“žÂ   Â    VEHICLE SPECIFICATIONS  Â Â Â Â Â Â Â Â Â YEAR:Â Â  2018Â  Â  Â STOCK #:Â Â  B76679Â  Â Â Â Â Â Â Â Â MAKE:Â Â  Ford Â Â Â Â Â MODEL:Â Â  F-350 Â  Â  Â  Â  Â  Â  Â VIN:Â Â  1FT8W3B67JEB76679Â  Â  Â  Â  Â  Â TRIM:Â Â  Super Duty XLTÂ  Â MILEAGE:Â Â  47,400 Â  Â  Â  COLOR:Â Â  Oxford White \\t Â  Â  Â  Â  Â BODY:Â Â  Truck Â  Â  Â  Â TRANS:Â Â  Automatic Â  Â  Â  Â  Â ADÂ ID:Â Â  960405365056A981 Â  Â  ENGINE:Â Â  6.2L Flex Fuel V8 385hp 430ft. lbs. 8  Cyl  Â  Â  Â  Â  Â FUEL:Â Â  Flex Fuel Â  Â  Â  Â DRIVE:Â Â  4WD    Â Â Â   Â Â Â Â Â Â Â  âœ… 100% CREDIT APPROVAL IS OUR GOAL! ðŸš— Start Your 3 Minute Online Credit Application!Â * Copy this link into your browser:Â â†ª http://atmxi.com/financing/4018 ðŸš— Check out our many diesel trucks inventory!* Copy this link into your browser:Â â†ª http://atmxi.com/inventory/4018 ðŸš—Â  This Vehicle was Hand Selected, Safety Inspected, And Priced to SellÂ  ðŸ“‹Â  CARFAX Available on this 2018 Ford F-350  **Oregon's Premier Diesel Truck Store Since 2004** Here at Sunrise Auto Sales we will offer you the best financing available,with Credit Union Direct Lending we can offer rates as low as 2.79%!!! WOW ( requires 760 credit score and terms may vary or cap, Call us to find out ) also must quailify for membership in Credit union area, based on approved credit), It can't get any better than that!Please feel free to inquire about this program since some restrictions apply. Also ask aboutour credit programs for/credit challenged/bad credit/bk/judgements and liens.We offer Service Contracts (warranties) on most of our vehicles. Call today to schedule a test drive!  Â  Ask our sales Professionals about our Delivery Service No Obligation No Risk ! We are confident you will love our quality trucks and SUV's that's why we can offer this service, in a rare event you disagree we will simply take it back without any cost or obligation to you. Most competitors won't even bother to compete knowing their vehicle quality and reconditioning process does not hold a candle to ours.Â  We deliver to metro area and Southwest Washington at no charge and small fee all the way to Idaho, Montana California. As a full service dealership we will assist you to arrange shippment anywhere in the nation. certain restriction apply.* DEALER ADDRESS Sunrise Auto SalesÂ 16001 SE McLoughlin Blvd Milwaukie, OR 97267Â DA1146  Call today! ðŸ“ž ðŸ“² (503) 782-5660ðŸ“² ðŸ“žÂ   Subject to prior sale. The price listed for this vehicle does not include charges such as: License, Title, Registration Fees, State or Local Taxes, Finance Charges, Optional Credit or Liability Insurance, Delivery Fee, and negotiable State Documentary Service Fee. The Dealership makes no representations, expressed or implied, to any actual or prospective purchaser or owner of this vehicle as to the existence, ownership, accuracy, description or condition of this vehicle's listed equipment, accessories, price or any warranties. Vehicle Pricing - Where permitted by law, all dealer fees and amounts must be disclosed in a clear, conspicuous and legible fashion. There are no exclusions. The Dealership is not responsible for typographical errors in price or equipment listed. Any and all differences must be addressed prior to the sale of this vehicle. Sunrise Auto Sales has the hard to find Lifted gas and diesel trucks in Portland. Best deals in Portland on truck and SUV 's.Â  KF-350 and dually drw srw F350 f250 2500 and 3500 3500hd 7.3 6.0 6.0l 7.3l or 5.9 and 5.9l cummins diesel and Duramax 6.6 6.7 pickup trucks, long bed or short bed crew or extended cab flat bed power stroke. looking for a Lifted disel trucks? we got it covered.Â  Many 6.7 and 5.9 diesel lifted or stock flat bed, long bed or short bed. ddiesel disel dizel used lifted trucks pickup truckÂ With over 80 used trucks in stock we carry the Largest selection ofÂ  hard to find gas and diesel lifted trucks in PortlandÂ  truck and SUV, F-350 and dually drw dully f150 f-350 f350 2500 3500 3500hd f450 7.3 6.7 6.7l 6.0 6.0l 7.3l or 5.9 and 5.9l cummins diesel and Duramax 6.6 6.7 pickup trucks, long bed or short bed crew or extended cab flat bed power stroke. looking for a Lifted disel trucks? we got it covered.Â  disel dizel used lifted trucks pickup laramie bighorn lariat super crew quad cab.We also offer toyota prius, toyota camry, RAV4, Toyota Tundra, toyota sienna, honda cr v, Honda Pilot, honda odyssey, ford focus, Kia, rav, Honda Civic , Rio , Impreza, legacy, Subaru, Scion, Matrix, Honda, Kia, Mercedes , Elantra, Accord,Camrry, Hyundai, Expedition, 4runner,Toyota Prius, toyota camry, toyota rav4, hybrid, toyota tercel, toyota tundra, toyota tacoma, toyota sienna, toyota corolla, honda civic, honda accord,honda cr v, honda pilot, honda passport, honda prelude, honda odyssey, ford focus, Chevy, Hyundai, Kia, rav 4, Honda Civic , Rio , Impreza, legacy, Subaru, Scion, Matrix, Honda, Kia, Mercedes, Ford Focus , Elantra, Accord, Camrry, Hyundai, geo metro, vw jetta, outback, GMC Yukon XL, 2500, Ford Excursion, Chevrolet Suburban3500, 450, 250, tundra, toyota sienna, honda cr v, Honda Pilot, honda odyssey, ford focus, Kia, rav, Honda Civic , Rio , Impreza, legacy, Subaru, Scion, Matrix, Honda, Kia, Mercedes , Elantra, Accord,Camrry, Hyundai, Expedition, 4runner, 2010, 10, 2011, 11, 2012, 12, 2013, 13, 2014, 14, 2015, 15, 2016, 16, 2017, 17, 2018, 18 0 00 *GMC* *Yukon XL* *Cheap 2500 SLT 4X4 w/ Barn Doors * CALL/TEXT!* *Like New 2000 2500 SLT 4X4 w/ Barn Doors * CALL/TEXT! SUV* *6.0L 300.0hp* *Must See 2000 GMC Yukon XL 2500 SLT 4X4 w/ Barn Doors * CALL/TEXT! Gasoline - 2000 GMC Yukon XL yukon xl YUKON XL 2500 SLT 4X4 w/ Barn Doors * CALL/TEXT! Gasoline SUV Cheap - 2000 GMC Yukon XL (2500 SLT 4X4 w/ Barn Doors * CALL/TEXT!) Carfax Gasoline 6.0L 300.0hp - 2000 GMC Yukon XL 2500 SLT 4X4 w/ Barn Doors * CALL/TEXT! SUV 6.0L 300.0hp Gasoline - GMC Yukon XL 2500 SLT 4X4 * No cost delivery in portland metro area within a 50 miles radius.Â  depending on distance a small fee based on miles and distance could be applied to cover our expenses.Â  ask your sales professional for details. ceertain exclusions may apply._____________________________________________________________________________________________________________________   F 350, four wheel drive, 4 wheel drive, Used Vehicles, Automatic, automatics, 2014, 14, 2015, 15, 2016, 16, 2017, 17, 2018, 18, 2019, 19, 2020, 20, 2021, 21, 2022, 22 AD ID: 960405365056A981  Â    Powered by Automoxie.com</td>\n",
       "      <td>NaN</td>\n",
       "      <td>or</td>\n",
       "      <td>45407237</td>\n",
       "      <td>-122625196</td>\n",
       "      <td>2021-05-01T10:20:09-0700</td>\n",
       "      <td>NaN</td>\n",
       "      <td>NaN</td>\n",
       "      <td>NaN</td>\n",
       "      <td>NaN</td>\n",
       "      <td>NaN</td>\n",
       "      <td>NaN</td>\n",
       "      <td>NaN</td>\n",
       "      <td>NaN</td>\n",
       "      <td>NaN</td>\n",
       "      <td>NaN</td>\n",
       "      <td>NaN</td>\n",
       "      <td>NaN</td>\n",
       "      <td>NaN</td>\n",
       "      <td>NaN</td>\n",
       "      <td>NaN</td>\n",
       "      <td>NaN</td>\n",
       "      <td>NaN</td>\n",
       "      <td>NaN</td>\n",
       "      <td>NaN</td>\n",
       "      <td>NaN</td>\n",
       "      <td>NaN</td>\n",
       "      <td>NaN</td>\n",
       "      <td>NaN</td>\n",
       "      <td>NaN</td>\n",
       "      <td>NaN</td>\n",
       "      <td>NaN</td>\n",
       "      <td>NaN</td>\n",
       "      <td>NaN</td>\n",
       "      <td>NaN</td>\n",
       "      <td>NaN</td>\n",
       "      <td>NaN</td>\n",
       "      <td>NaN</td>\n",
       "      <td>NaN</td>\n",
       "      <td>NaN</td>\n",
       "      <td>NaN</td>\n",
       "      <td>NaN</td>\n",
       "      <td>NaN</td>\n",
       "      <td>NaN</td>\n",
       "    </tr>\n",
       "    <tr>\n",
       "      <th>4</th>\n",
       "      <td>7315377820</td>\n",
       "      <td>https://medford.craigslist.org/ctd/d/gladstone-2015-ford-250-4x4-4wd-f250/7315377820.html</td>\n",
       "      <td>medford-ashland</td>\n",
       "      <td>https://medford.craigslist.org</td>\n",
       "      <td>0</td>\n",
       "      <td>2015</td>\n",
       "      <td>ford</td>\n",
       "      <td>f-250 super duty lariat li</td>\n",
       "      <td>NaN</td>\n",
       "      <td>8 cylinders</td>\n",
       "      <td>diesel</td>\n",
       "      <td>107055</td>\n",
       "      <td>clean</td>\n",
       "      <td>automatic</td>\n",
       "      <td>1FT7W2BT8FEC70315</td>\n",
       "      <td>4wd</td>\n",
       "      <td>NaN</td>\n",
       "      <td>truck</td>\n",
       "      <td>NaN</td>\n",
       "      <td>https://images.craigslist.org/00f0f_6ruN4GZvmPtz_0cU09G_600x450.jpg</td>\n",
       "      <td>Carz PlanetÂ   Â Â Â Â Â Â Â STOCK #:Â Â 6999  Â  ðŸ’² ðŸ’² FOR BEST PRICE CALL OR TEXT SAMMY:Â Â 503-683-1212Â ðŸ“žVEHICLE SPECIFICATIONSÂ Â Â Â Â Â Â Â Â YEAR:Â Â  2015Â  Â Â Â Â Â Â Â Â MAKE:Â Â Â Ford Â Â Â Â Â MODEL:Â Â Â F-250 Â  Â STOCK #:Â Â  6999Â  Â  Â  Â  Â  Â  Â  Â VIN:Â Â  1FT7W2BT8FEC70315Â  Â  Â  Â  Â  Â TRIM:Â Â  Super Duty Lariat LIFTED DIESEL TRUCK AMERICAN Â Â MILEAGE:Â Â  107,055 Â  Â  Â  COLOR:Â Â  White / Adobe Â  Â  Â  Â  Â BODY:Â Â  Truck Â  Â  Â  Â TRANS:Â Â  Automatic Â  Â  Â  Â  Â ADÂ ID:Â Â  91C11CD15056A981Â  Â  ENGINE:Â Â  Power Stroke 6.7L Biodiesel Turbo V8 440hp 860ft. 8  Cyl  Â  Â  Â  Â  Â FUEL:Â Â  Diesel Â  Â  Â  Â DRIVE:Â Â  4WD Â  Â  Â  Â  Â  MPG:Â Â   City /  Hwy âš¡ âš¡ âš¡ âš¡ âš¡Â  CALL/TEXTÂ SAMMYÂ 503-683-1212Â âš¡Â âš¡Â âš¡Â âš¡Â âš¡Â âœ… We Finance Everyone - Good Credit, Bad Credit, No Credit! *âœ… Write-Offs, Repos, Bankruptcy, Collections - Approved! *âœ… Slow Payments, Judgements, Divorce - Approved! *âœ… Get Approved for a Loan in 30 minutes! *âœ… Nice Selection of High-Quality, Low Mileage Vehicles! *âœ… Extended Service Contracts Available! *âœ… Trade-Ins Welcome! We Will Buy Your Car For Top Dollar! * ðŸ’¥ ðŸ’¥ ðŸ’¥ GET APPROVED NOW!! GO TO http://atmxi.com/financing/3771Â  ðŸ’¥Â ðŸ’¥Â ðŸ’¥Â ðŸ’¥Â  âœ… For more ads by this dealer: http://atmxi.com/inventory/3771 More vehicle details:Â http://atmxi.com/82329/2915843I408Â Address: 19120 SE McLoughlin Blvd Gladstone, OR 97027 Phone:Â 503-683-1212Â Website: http://atmxi.com/dealer/3771 Â  Â  Â * Front air conditioning: automatic climate controlÂ  Â * Front air conditioning zones: dualÂ  Â  Â * Front airbags: dualÂ  Â  Â  Â  Â  Â  Â  Â  Â  Â  Â  Â  Â  Â  Â  Â  Â  Â  Â  Â  Â  Â  Â  Â  Â  Â * Side airbags: frontÂ  Â  Â * Side curtain airbags: frontÂ  Â  Â  Â  Â  Â  Â  Â  Â  Â  Â  Â  Â  Â  Â  Â  Â  Â  Â  Â * rearÂ  Â  Â * Side-curtain airbag rollover sensorÂ  Â  Â  Â  Â  Â  Â  Â  Â  Â  Â  Â  Â  * Antenna type: mastÂ  Â  Â * Auxiliary audio input: BluetoothÂ  Â  Â  Â  Â  Â  Â  Â  Â  Â  Â  Â  Â  Â  Â * USBÂ  Â  Â * jackÂ  Â  Â  Â  Â  Â  Â  Â  Â  Â  Â  Â  Â  Â  Â  Â  Â  Â  Â  Â  Â  Â  Â  Â  Â  Â  Â  Â  Â  Â  Â  Â  Â  Â  Â  Â  Â  * memory card slotÂ  Â  Â * In-Dash CD: MP3 PlaybackÂ  Â  Â  Â  Â  Â  Â  Â  Â  Â  Â  Â  Â  Â  Â  Â  Â  Â  * single discÂ  Â  Â * Premium brand: SonyÂ  Â  Â  Â  Â  Â  Â  Â  Â  Â  Â  Â  Â  Â  Â  Â  Â  Â  Â  Â  Â  Â  Â  * Radio: AM/FMÂ  Â  Â * HD radioÂ  Â  Â  Â  Â  Â  Â  Â  Â  Â  Â  Â  Â  Â  Â  Â  Â  Â  Â  Â  Â  Â  Â  Â  Â  Â  Â  Â  Â  Â  Â  Â  Â * touch screen displayÂ  Â  Â * voice operatedÂ  Â  Â  Â  Â  Â  Â  Â  Â  Â  Â  Â  Â  Â  Â  Â  Â  Â  Â  Â  Â  Â  Â  Â  Â  Â  Â  Â  Â * Satellite radio: SiriusXMÂ  Â  Â * Subwoofer: 1Â  Â  Â  Â  Â  Â  Â  Â  Â  Â  Â  Â  Â  Â  Â  Â  Â  Â  Â  Â  Â  Â  Â  Â  Â  Â  Â  Â  Â  Â  * Total speakers: 9Â  Â  Â * ABS: 4-wheelÂ  Â  Â  Â  Â  Â  Â  Â  Â  Â  Â  Â  Â  Â  Â  Â  Â  Â  Â  Â  Â  Â  Â  Â  Â  Â  Â  Â  Â  * Braking assistÂ  Â  Â * Electronic brakeforce distributionÂ  Â  Â  Â  Â  Â  Â  Â  Â  Â  Â  Â  Â  Â * Front brake diameter: 14.29Â  Â  Â * Front brake type: ventilated discÂ  Â  Â  Â  Â  Â  Â  Â  Â  Â  Â  Â  Â  Â  Â * Power brakesÂ  Â  Â * Rear brake diameter: 14.3Â  Â  Â  Â  Â  Â  Â  Â  Â  Â  Â  Â  Â  Â  Â  Â  Â  Â  Â  Â  * Rear brake type: ventilated discÂ  Â  Â * Armrests: rear center folding with storageÂ  Â  Â  Â  Â  Â  Â  * Dash trim: simulated woodÂ  Â  Â * Door trim: simulated woodÂ  Â  Â  Â  Â  Â  Â  Â  Â  Â  Â  Â  Â  Â  Â  Â  Â  Â  Â  * Floor mat material: carpetÂ  Â  Â * Floor material: carpetÂ  Â  Â  Â  Â  Â  Â  Â  Â  Â  Â  Â  Â  Â  Â  Â  Â  Â  Â  Â  Â  Â  Â  * Floor mats: frontÂ  Â  Â * rearÂ  Â  Â  Â  Â  Â  Â  Â  Â  Â  Â  Â  Â  Â  Â  Â  Â  Â  Â  Â  Â  Â  Â  Â  Â  Â  Â  Â  Â  Â  Â  Â  Â  Â  Â  Â  Â  * Steering wheel trim: leatherÂ  Â  Â * Adjustable pedals: powerÂ  Â  Â  Â  Â  Â  Â  Â  Â  Â  Â  Â  Â  Â  Â  Â  Â  Â  Â  Â  Â * Assist handle: frontÂ  Â  Â * rearÂ  Â  Â  Â  Â  Â  Â  Â  Â  Â  Â  Â  Â  Â  Â  Â  Â  Â  Â  Â  Â  Â  Â  Â  Â  Â  Â  Â  Â  Â  Â  Â  Â  Â  Â  Â  Â  * Center console: front console with armrest and storageÂ  Â  Â * Cruise controlÂ  Â  Â  Â  Â  Â  Â  Â  Â  Â  Â  Â  Â  Â  Â  Â  Â  Â  Â  Â  Â  Â  Â  Â  Â  Â  Â  Â  Â  * Cupholders: frontÂ  Â  Â * rearÂ  Â  Â  Â  Â  Â  Â  Â  Â  Â  Â  Â  Â  Â  Â  Â  Â  Â  Â  Â  Â  Â  Â  Â  Â  Â  Â  Â  Â  Â  Â  Â  Â  Â  Â  Â  Â  * Keypad entryÂ  Â  Â * Multi-function remote: keyless entryÂ  Â  Â  Â  Â  Â  Â  Â  Â  Â  Â  * One-touch windows: 2Â  Â  Â * Overhead console: frontÂ  Â  Â  Â  Â  Â  Â  Â  Â  Â  Â  Â  Â  Â  Â  Â  Â  Â  Â  Â  Â  Â * Power outlet(s): 115V frontÂ  Â  Â * 115V rearÂ  Â  Â  Â  Â  Â  Â  Â  Â  Â  Â  Â  Â  Â  Â  Â  Â  Â  Â  Â  Â  Â  Â  Â  Â  Â  Â  Â  Â  Â  Â  Â  * 12V frontÂ  Â  Â * 12V rearÂ  Â  Â  Â  Â  Â  Â  Â  Â  Â  Â  Â  Â  Â  Â  Â  Â  Â  Â  Â  Â  Â  Â  Â  Â  Â  Â  Â  Â  Â  Â  Â  Â  * Power steeringÂ  Â  Â * Reading lights: frontÂ  Â  Â  Â  Â  Â  Â  Â  Â  Â  Â  Â  Â  Â  Â  Â  Â  Â  Â  Â  Â  Â  Â  Â  * rearÂ  Â  Â * Rearview mirror: auto-dimmingÂ  Â  Â  Â  Â  Â  Â  Â  Â  Â  Â  Â  Â  Â  Â  * Retained accessory powerÂ  Â  Â * Steering wheel: tilt and telescopicÂ  Â  Â  Â  Â  Â  Â  Â  Â  Â  Â  Â  Â  Â * Steering wheel mounted controls: audioÂ  Â  Â * cruise controlÂ  Â  Â  Â  Â  Â  Â  Â  Â  Â  Â  Â  Â  Â  Â  Â  Â  Â  Â  Â  Â  Â  Â  Â  Â  Â  Â  Â  Â  * multi-functionÂ  Â  Â * phoneÂ  Â  Â  Â  Â  Â  Â  Â  Â  Â  Â  Â  Â  Â  Â  Â  Â  Â  Â  Â  Â  Â  Â  Â  Â  Â  Â  Â  Â  Â  Â  Â  Â  Â  Â  * voice controlÂ  Â  Â * Storage: cargo tie-down anchors and hooksÂ  Â  Â  Â  Â  Â  * door pocketsÂ  Â  Â * in dashÂ  Â  Â  Â  Â  Â  Â  Â  Â  Â  Â  Â  Â  Â  Â  Â  Â  Â  Â  Â  Â  Â  Â  Â  Â  Â  Â  Â  Â  Â  Â  Â  Â  Â  Â * sunglasses holderÂ  Â  Â * under front seatsÂ  Â  Â  Â  Â  Â  Â  Â  Â  Â  Â  Â  Â  Â  Â  Â  Â  Â  Â  Â  Â  Â  Â  Â  Â  Â  Â  * under rear seatsÂ  Â  Â * Vanity mirrors: dual illuminatingÂ  Â  Â  Â  Â  Â  Â  Â  Â  Â  Â  Â  Â  Â  * 4WD selector: electronic hi-loÂ  Â  Â * 4WD type: part timeÂ  Â  Â  Â  Â  Â  Â  Â  Â  Â  Â  Â  Â  Â  Â  Â  Â  Â  Â  Â  Â  Â  Â  Â  * Axle ratio: 3.73Â  Â  Â * Alternator: 200 ampsÂ  Â  Â  Â  Â  Â  Â  Â  Â  Â  Â  Â  Â  Â  Â  Â  Â  Â  Â  Â  Â  Â  Â  Â * Battery rating: 650 CCAÂ  Â  Â * Door handle color: body-colorÂ  Â  Â  Â  Â  Â  Â  Â  Â  Â  Â  Â  Â  Â  Â  Â  * Front bumper color: chromeÂ  Â  Â * Grille color: chrome surroundÂ  Â  Â  Â  Â  Â  Â  Â  Â  Â  Â  Â  Â  Â  Â  Â  Â * metallicÂ  Â  Â * Mirror color: blackÂ  Â  Â  Â  Â  Â  Â  Â  Â  Â  Â  Â  Â  Â  Â  Â  Â  Â  Â  Â  Â  Â  Â  Â  Â  * Pickup bed lightÂ  Â  Â * Pickup bed type: fleetsideÂ  Â  Â  Â  Â  Â  Â  Â  Â  Â  Â  Â  Â  Â  Â  Â  Â  Â  Â  Â  * Rear bumper color: chromeÂ  Â  Â * Tailgate: removableÂ  Â  Â  Â  Â  Â  Â  Â  Â  Â  Â  Â  Â  Â  Â  Â  Â  Â  Â  Â  Â  Â  Â  Â  Â * Infotainment: SYNCÂ  Â  Â * Infotainment screen size: 8 in.Â  Â  Â  Â  Â  Â  Â  Â  Â  Â  Â  Â  Â  Â  Â  Â  Â * Video system: auxiliary audio/video inputÂ  Â  Â * ClockÂ  Â  Â  Â  Â  Â  Â  Â  Â  Â  Â  Â  Â  Â  Â  Â  Â  Â  Â  Â  Â  Â  Â  Â  Â  Â  Â  Â  Â  Â  Â  Â  Â  Â  Â  Â  * CompassÂ  Â  Â * Engine hour meterÂ  Â  Â  Â  Â  Â  Â  Â  Â  Â  Â  Â  Â  Â  Â  Â  Â  Â  Â  Â  Â  Â  Â  Â  Â  Â * External temperature displayÂ  Â  Â * Fuel economy display: MPGÂ  Â  Â  Â  Â  Â  Â  Â  Â  Â  Â  Â  Â  Â  Â  Â  Â  Â * rangeÂ  Â  Â * Gauge: tachometerÂ  Â  Â  Â  Â  Â  Â  Â  Â  Â  Â  Â  Â  Â  Â  Â  Â  Â  Â  Â  Â  Â  Â  Â  Â  Â * Instrument cluster screen size: 4.2 in.Â  Â  Â * Multi-function displayÂ  Â  Â  Â  Â  Â  Â  Â  Â  Â  Â  Â  Â  Â  Â  Â  Â  Â  Â  Â  Â  Â  Â * Multi-functional information centerÂ  Â  Â * Trip odometerÂ  Â  Â  Â  Â  Â  Â  Â  Â  Â  Â  Â  Â  Â  Â  Â  Â  Â  Â  Â  Â  Â  Â  Â  Â  Â  Â  Â  Â  * Warnings and reminders: low fuel levelÂ  Â  Â * low oil levelÂ  Â  Â  Â  Â  Â  Â  Â  Â  Â  Â  Â  Â  Â  Â  Â  Â  Â  Â  Â  Â  Â  Â  Â  Â  Â  Â  Â  Â  Â  * tire fill alertÂ  Â  Â * Front fog lightsÂ  Â  Â  Â  Â  Â  Â  Â  Â  Â  Â  Â  Â  Â  Â  Â  Â  Â  Â  Â  Â  Â  Â  Â  Â  Â  Â  Â  * Headlights: auto delay offÂ  Â  Â * auto onÂ  Â  Â  Â  Â  Â  Â  Â  Â  Â  Â  Â  Â  Â  Â  Â  Â  Â  Â  Â  Â  Â  Â  Â  Â  Â  Â  Â  Â  Â  Â  Â  Â  Â  * halogenÂ  Â  Â * Taillights: rear centerÂ  Â  Â  Â  Â  Â  Â  Â  Â  Â  Â  Â  Â  Â  Â  Â  Â  Â  Â  Â  Â  Â  Â  Â * Side mirror adjustments: powerÂ  Â  Â * power foldingÂ  Â  Â  Â  Â  Â  Â  Â  Â  Â  Â  Â  Â  Â  Â  Â  Â  Â  Â  Â  Â  Â  Â  Â  Â  Â  Â  Â  Â  * power telescopingÂ  Â  Â * Side mirror type: spotter mirrorÂ  Â  Â  Â  Â  Â  Â  Â  Â  Â  Â  Â  Â  Â  Â  Â * towingÂ  Â  Â * Side mirrors: heatedÂ  Â  Â  Â  Â  Â  Â  Â  Â  Â  Â  Â  Â  Â  Â  Â  Â  Â  Â  Â  Â  Â  Â  Â  Â * integrated turn signalsÂ  Â  Â * Body side reinforcements: side impact door beamsÂ  Â  Â * Camera system: rearviewÂ  Â  Â  Â  Â  Â  Â  Â  Â  Â  Â  Â  Â  Â  Â  Â  Â  Â  Â  Â  * Child safety door locksÂ  Â  Â * Child seat anchors: LATCH systemÂ  Â  Â  Â  Â  Â  Â  Â  Â  Â  Â  Â  * Impact sensor: post-collision safety systemÂ  Â  Â * Parking sensors: rearÂ  Â  Â  Â  Â  Â  Â  Â  Â  Â  Â  Â  Â  Â  Â  Â  Â  Â  Â  Â  Â  Â  Â  Â  * Programmable safety keyÂ  Â  Â * Rearview monitorÂ  Â  Â  Â  Â  Â  Â  Â  Â  Â  Â  Â  Â  Â  Â  Â  Â  Â  Â  Â  Â  Â  Â  Â  Â  Â  * Front seatbelts: 3-pointÂ  Â  Â * Rear seatbelts: 3-pointÂ  Â  Â  Â  Â  Â  Â  Â  Â  Â  Â  Â  Â  Â  Â  Â  Â  Â  Â  Â  Â  Â  Â * Seatbelt pretensioners: frontÂ  Â  Â * Seatbelt warning sensor: frontÂ  Â  Â  Â  Â  Â  Â  Â  Â  Â  Â  Â  Â  Â  Â  Â  Â * Driver seat power adjustments: heightÂ  Â  Â * lumbarÂ  Â  Â  Â  Â  Â  Â  Â  Â  Â  Â  Â  Â  Â  Â  Â  Â  Â  Â  Â  Â  Â  Â  Â  Â  Â  Â  Â  Â  Â  Â  Â  Â  Â  Â * recliningÂ  Â  Â * 10Â  Â  Â  Â  Â  Â  Â  Â  Â  Â  Â  Â  Â  Â  Â  Â  Â  Â  Â  Â  Â  Â  Â  Â  Â  Â  Â  Â  Â  Â  Â  Â  Â  Â  Â  Â  Â  Â  * Front headrests: adjustableÂ  Â  Â * 2Â  Â  Â  Â  Â  Â  Â  Â  Â  Â  Â  Â  Â  Â  Â  Â  Â  Â  Â  Â  Â  Â  Â  Â  Â  Â  Â  Â  Â  Â  Â  Â  Â  Â  Â  Â  Â  Â  Â  * Front seat type: captains chairsÂ  Â  Â * Passenger seat power adjustments: heightÂ  Â  Â  Â  Â  Â  Â  Â * lumbarÂ  Â  Â * recliningÂ  Â  Â  Â  Â  Â  Â  Â  Â  Â  Â  Â  Â  Â  Â  Â  Â  Â  Â  Â  Â  Â  Â  Â  Â  Â  Â  Â  Â  Â  Â  Â  Â  * 10Â  Â  Â * Rear headrests: adjustableÂ  Â  Â  Â  Â  Â  Â  Â  Â  Â  Â  Â  Â  Â  Â  Â  Â  Â  Â  Â * 3Â  Â  Â * Rear seat folding: splitÂ  Â  Â  Â  Â  Â  Â  Â  Â  Â  Â  Â  Â  Â  Â  Â  Â  Â  Â  Â  Â  Â  Â * Rear seat type: 60-40 split benchÂ  Â  Â * Upholstery: leatherÂ  Â  Â  Â  Â  Â  Â  Â  Â  Â  Â  Â  Â  Â  Â  Â  Â  Â  Â  Â  Â  Â  Â  Â  Â  * 2-stage unlocking doorsÂ  Â  Â * Anti-theft system: alarmÂ  Â  Â  Â  Â  Â  Â  Â  Â  Â  Â  Â  Â  Â  Â  Â  Â  Â  Â  Â  Â  * engine immobilizerÂ  Â  Â * Power door locksÂ  Â  Â  Â  Â  Â  Â  Â  Â  Â  Â  Â  Â  Â  Â  Â  Â  Â  Â  Â  Â  Â  Â  Â  Â  Â  Â * Hill holder controlÂ  Â  Â * Roll stability controlÂ  Â  Â  Â  Â  Â  Â  Â  Â  Â  Â  Â  Â  Â  Â  Â  Â  Â  Â  Â  Â  Â  Â  Â  * Stability controlÂ  Â  Â * Traction controlÂ  Â  Â  Â  Â  Â  Â  Â  Â  Â  Â  Â  Â  Â  Â  Â  Â  Â  Â  Â  Â  Â  Â  Â  Â  Â  Â  Â   DEALER ADDRESS  Carz PlanetÂ  19120 SE McLoughlin Blvd Gladstone, OR 97027Â  DA3599  Call today! 503-683-1212Â ðŸ“žÂ  COPY THIS LINK AND PASTE TO YOUR BROWSER FOR MORE INFORMATION: Â Â Â Â Â Â Â Â Â Â Â Â Â http://atmxi.com/82329/2915843I408 CALL OR TEXT SAMMY AT 503-683-1212          BEAUTIFUL 2015 FORD F250 SUPER DUTY LIFTED LARIAT DIESEL TRUCK 4WD AMERICAN TRUCK THAT WAS JUST PRE-INSPECTED AND JUST SERVICED FOR ITS NEW OWNER! CLEAN TITLE AND IMMACULATE INSIDE AND OUT! IT HAS THE FOLLOWING OPTIONS: LIFTED, AMERICAN DIESEL TRUCK (NOT FROM CANADA), 4WD, FX4 OFF PKG, LARIAT ULTIMATE PACKAGE, NAVIGATION, POWER SLIDE MOON ROOF, MEMORY GROUP, REMOTE START SYSTEM, HEATED/COOLED FRONT SEATS, LEATHER SEATS, POWER SLIDING REAR WINDOW, CRUISE CONTROL. SONY PREMIUM STEREO, PARKING SENSORS, BACK UP CAMERA, AND SO MUCH MORE! BAD CREDIT, DIVORCE, NO CREDIT, BANKRUPTCY CAN HELP! WE ARE THE FINANCE KINGS! WE CAN HELP WITH ANY CREDIT PROBLEM! IN HOUSE FINANCING AVAILABLE ON APPROVED CREDIT! COME SEE US TODAY AND LET US HELP YOU DRIVE YOUR DREAM HOME TODAY!          DA#3599          CARZ PLANET         CALL OR TEXT SAMMY AT 503-683-1212similar vehicles: 2000 2001 2002 2003 2004 2005 2006 2007 2008 2009 2010 2011 2012 2013 2015 2015 02 03 01 00 04 05 06 07 08 09 10 11 12 13 14   7.3 6.4 6.7 6.0 dually dully diesel disel trucks power stroke powerstroke lariat xlt xl king ranch lifted trucks lifted truck diesel lifted trucks long bed short bed pickup trucks  5.9 6.7 5.7 cummins diesel cumins cummings diesel lifted duramax 6.6 Allison train diesel lifted truck trucks 6 speed 5 speed manual trani flat bed slt lt ltz z71 sierra lifted truck off road trucks used trucks trucks lifted  diesel Subject to prior sale. The price listed for this vehicle does not include charges such as: License, Title, Registration Fees, State or Local Taxes, Finance Charges, Optional Credit or Liability Insurance, Delivery Fee, and negotiable State Documentary Service Fee. The Dealership makes no representations, expressed or implied, to any actual or prospective purchaser or owner of this vehicle as to the existence, ownership, accuracy, description or condition of this vehicle's listed equipment, accessories, price or any warranties. Vehicle Pricing - Where permitted by law, all dealer fees and amounts must be disclosed in a clear, conspicuous and legible fashion. There are no exclusions. The Dealership is not responsible for typographical errors in price or equipment listed. Any and all differences must be addressed prior to the sale of this vehicle. prices do not include $115 doc fee or title/registration and taxes. Â Dealer not responsible for errors on advertising subject to rules and laws of State of Oregon and federal.Â  AD expires afterÂ  72 hours after publication,Â Â in an event of multiple postings of the same vehicle by dealer the newest posting sate is the valid advertising of the price vehicle where permitted by law.Â  All vehicles are sold as is. Extended service contract is available for additonal charge through a third party vendor.Â *On Approved Credit   F 250, Used Diesel, Diesels, four wheel drive, 4 wheel drive, Used Vehicles, automatics, 2011, 11, 2012, 12, 2013, 13, 2014, 14, 2015, 15, 2016, 16, 2017, 17, 2018, 18, 2019, 19 AD ID: 91C11CD15056A981   Powered by Automoxie.com</td>\n",
       "      <td>NaN</td>\n",
       "      <td>or</td>\n",
       "      <td>45385979</td>\n",
       "      <td>-122608301</td>\n",
       "      <td>2021-05-01T10:19:16-0700</td>\n",
       "      <td>NaN</td>\n",
       "      <td>NaN</td>\n",
       "      <td>NaN</td>\n",
       "      <td>NaN</td>\n",
       "      <td>NaN</td>\n",
       "      <td>NaN</td>\n",
       "      <td>NaN</td>\n",
       "      <td>NaN</td>\n",
       "      <td>NaN</td>\n",
       "      <td>NaN</td>\n",
       "      <td>NaN</td>\n",
       "      <td>NaN</td>\n",
       "      <td>NaN</td>\n",
       "      <td>NaN</td>\n",
       "      <td>NaN</td>\n",
       "      <td>NaN</td>\n",
       "      <td>NaN</td>\n",
       "      <td>NaN</td>\n",
       "      <td>NaN</td>\n",
       "      <td>NaN</td>\n",
       "      <td>NaN</td>\n",
       "      <td>NaN</td>\n",
       "      <td>NaN</td>\n",
       "      <td>NaN</td>\n",
       "      <td>NaN</td>\n",
       "      <td>NaN</td>\n",
       "      <td>NaN</td>\n",
       "      <td>NaN</td>\n",
       "      <td>NaN</td>\n",
       "      <td>NaN</td>\n",
       "      <td>NaN</td>\n",
       "      <td>NaN</td>\n",
       "      <td>NaN</td>\n",
       "      <td>NaN</td>\n",
       "      <td>NaN</td>\n",
       "      <td>NaN</td>\n",
       "      <td>NaN</td>\n",
       "      <td>NaN</td>\n",
       "    </tr>\n",
       "  </tbody>\n",
       "</table>\n",
       "</div>"
      ],
      "text/plain": [
       "           id  \\\n",
       "0  7315388495   \n",
       "1  7315387590   \n",
       "2  7315378954   \n",
       "3  7315378371   \n",
       "4  7315377820   \n",
       "\n",
       "                                                                                         url  \\\n",
       "0   https://medford.craigslist.org/ctd/d/topawa-2014-nissan-versa-plus-sedan/7315388495.html   \n",
       "1    https://medford.craigslist.org/cto/d/medford-award-winning-1965-mustang/7315387590.html   \n",
       "2  https://medford.craigslist.org/cto/d/medford-2008-toyota-tacoma-only-110k/7315378954.html   \n",
       "3   https://medford.craigslist.org/ctd/d/portland-2018-ford-350-4x4-4wd-f350/7315378371.html   \n",
       "4  https://medford.craigslist.org/ctd/d/gladstone-2015-ford-250-4x4-4wd-f250/7315377820.html   \n",
       "\n",
       "            region                      region_url  price  year manufacturer  \\\n",
       "0  medford-ashland  https://medford.craigslist.org   6888  2014       nissan   \n",
       "1  medford-ashland  https://medford.craigslist.org  19500  1965         ford   \n",
       "2  medford-ashland  https://medford.craigslist.org  16600  2008       toyota   \n",
       "3  medford-ashland  https://medford.craigslist.org      0  2018         ford   \n",
       "4  medford-ashland  https://medford.craigslist.org      0  2015         ford   \n",
       "\n",
       "                        model  condition    cylinders    fuel odometer  \\\n",
       "0                 versa splus   like new  4 cylinders     gas    91088   \n",
       "1                     mustang  excellent  8 cylinders     gas    73500   \n",
       "2             tacoma xtra cab       good  4 cylinders     gas   110000   \n",
       "3                       f-350        NaN  8 cylinders     gas    47400   \n",
       "4  f-250 super duty lariat li        NaN  8 cylinders  diesel   107055   \n",
       "\n",
       "  title_status transmission                VIN drive      size    type  \\\n",
       "0        clean    automatic  3N1CN7AP7EL850675   fwd   compact   sedan   \n",
       "1        clean    automatic                NaN   rwd  mid-size   coupe   \n",
       "2        clean       manual                NaN   4wd       NaN  pickup   \n",
       "3        clean    automatic  1FT8W3B67JEB76679   4wd       NaN   truck   \n",
       "4        clean    automatic  1FT7W2BT8FEC70315   4wd       NaN   truck   \n",
       "\n",
       "  paint_color  \\\n",
       "0       black   \n",
       "1         red   \n",
       "2       black   \n",
       "3         NaN   \n",
       "4         NaN   \n",
       "\n",
       "                                                             image_url  \\\n",
       "0  https://images.craigslist.org/00q0q_5st033GWtInz_0ew0jm_600x450.jpg   \n",
       "1  https://images.craigslist.org/00s0s_12aake5jYXXz_0ak07K_600x450.jpg   \n",
       "2  https://images.craigslist.org/00808_2iPAZZCx7NJz_0CI0t2_600x450.jpg   \n",
       "3  https://images.craigslist.org/00303_bBKG78Zb11Wz_0cU09G_600x450.jpg   \n",
       "4  https://images.craigslist.org/00f0f_6ruN4GZvmPtz_0cU09G_600x450.jpg   \n",
       "\n",
       "                                                                                                                                                                                                                                                                                                                                                                                                                                                                                                                                                                                                                                                                                                                                                                                                                                                                                                                                                                                                                                                                                                                                                                                                                                                                                                                                                                                                                                                                                                                                                                                                                                                                                                                                                                                                                                                                                                                                                                                                                                                                                                                                                                                                                                                                                                                                                                                                                                                                                                                                                                                                                                                                                                                                                                                                                                                                                                                                                                                                                                                                                                                                                                                                                                                                                                                                                                                                                                                                                                                                                                                                                                                                                                                                                                                                                                                                                                                                                                                                                                                                                                                                                                                                                                                                                                                                                                                                                                                                                                                                                                                                                                                                                                                                                                                                                                                                                                                                                                                                                                                                                                                                                                                                                                                                                                                                                                                                                                                                                                                                                                                                                                                                                                                                                                                                                                                                                                                                                                                                                                                                                                                                                                                                                                                                                                                                                                                                                                                                                                                                                                                                                                                                                                                                                                                                                                                                                                                                                                                                                                                                                                                                                                                                                                                                                                                                                                                                                                                                                                                                                                                                                                                                                                                                                                                                                                                                                                                                                                                                                                                                                                                                                                                                                                                                                                                                                                                                                                                                                                                                                                                                                                                                                                                                                                                                                                                                                                                                                                                                                                                                                                                                                                                                                                                                                                                                                                                                                                                                                                                                                                                                                                                                                                                                                                                                                                                                                                                                                                                                                                                                                                                                                                                                                                                                                                                                                                                                                                                                                                                                                                                                                                                                                                                                                                                                                                                                                                                                                                                                                                                                                                                                                                                                                                                                                                                                                                                                                                                                                                                                                                                                                                                                                                                                                                                                                                                                                                                                                                                                                                                                                                                                                                                                                                                                                                                                                                                                                                                                                                                                                                                                                                                                                                                                                                                                                                                                                                                                                                                                                                                                                                                                                                                                                                                                                                                                                                                                                                                                                                                                                                                                                                                                                                                                                                                                                                                                                                                                                                                                                                                                                                                                                                                                                                                                                                                                                                                                                                                                                                                                                                                                                                                                                                                               description  \\\n",
       "0                                                                                                                                                                                                                                                                                                                                                                                                                                                                                                                                                                                                                                                                                                                                                                                                                                                                                                                                                                                                                                                                                                                                                                                                                                                                                                                                                                                                                                                                                                                                                                                                                                                                                                                                                                                                                                                                                                                                                                                                                                                                                                                                                                                                                                                                                                                                                                                                                                                                                                                                                                                                                                                                                                                                                                                                                                                                                                                                                                                                                                                                                                                                                                                                                                                                                                                                                                                                                                                                                                                                                                                                                                                                                                                                                                                                                                                                                                                                                                                                                                                                                                                                                                                                                                                                                                                                                                                                                                                                                                                                                                                                                                                                                                                                                                                                                                                                                                                                                                                                                                                                                                                                                                                                                                                                                                                                                                                                                                                                                                                                                                                                                                                                                                                                                                                                                                                                                                                                                                                                                                                                                                                                                                                                                                                                                                                                                                                                                                                                                                                                                                                                                                                                                                                                                                                                                                                                                                                                                                                                                                                                                                                                                                                                                                                                                                                                                                                                                                                                                                                                                                                                                                                                                                                                                                                                                                                                                                                                                                                                                                                                                                                                                                                                                                                                                                                                                                                                                                                                                                                                                                                                                                                                                                                                                                                                                                                                                                                                                                                                                                                                                                                                                                                                                                                                                                                                                                                                                                                                                                                                                                                                                                                                                                                                                                                                                                                                                                                                                                                                                                                                                                                                                                                                                                                                                                                                                                                                                                                                                                                                                                                                                                                                                                                                                                                                                                                                                                                                                                                                                                                                                                                                                                                                                                                                                                                                                                                                                                                                                                                                                                                                                                                                                                                                                                                                                                                                                                                                                                                                                                                                                                                                                                                                                                                                                                                                                                                                                                                                                                                                                                                                                                                                                                                                                                                                                                                                                                                                                                                                                                                                                                                                                                                                                                                                                                                                                                                                                                                                                                                                                                                                                                                                                                                                                                                                                                                                                                                                                                                                                                                                                                                                                                                                                                                                                                                                                                                                                                                                                                                            2014 Nissan Versa S Plus 4 D Sedan. Nice and running good. Must look. Our Dealership number DL0948 and located at 522 S Central Ave Medford OR97501. Please call Matt 323-916-7888 or 458-226-2020 for Benny.   \n",
       "1                                                                                                                                                                                                                                                                                                                                                                                                                                                                                                                                                                                                                                                                                                                                                                                                                                                                                                                                                                                                                                                                                                                                                                                                                                                                                                                                                                                                                                                                                                                                                                                                                                                                                                                                                                                                                                                                                                                                                                                                                                                                                                                                                                                                                                                                                                                                                                                                                                                                                                                                                                                                                                                                                                                                                                                                                                                                                                                                                                                                                                                                                                                                                                                                                                                                                                                                                                                                                                                                                                                                                                                                                                                                                                                                                                                                                                                                                                                                                                                                                                                                                                                                                                                                                                                                                                                                                                                                                                                                                                                                                                                                                                                                                                                                                                                                                                                                                                                                                                                                                                                                                                                                                                                                                                                                                                                                                                                                                                                                                                                                                                                                                                                                                                                                                                                                                                                                                                                                                                                                                                                                                                                                                                                                                                                                                                                                                                                                                                                                                                                                                                                                                                                                                                                                                                                                                                                                                                                                                                                                                                                                                                                                                                                                                                                                                                                                                                                                                                                                                                                                                                                                                                                                                                                                                                                                                                                                                                                                                                                                                                                                                                                                                                                                                                                                                                                                                                                                                                                                                                                                                                                                                                                                                                                                                                                                                                                                                                                                                                                                                                                                                                                                                                                                                                                                                                                                                                                                                                                                                                                                                                                                                                                                                                                                                                                                                                                                                                                                                                                                                                                                                                                                                                                                                                                                                                                                                                                                                                                                                                                                                                                                                                                                                                                                                                                                                                                                                                                                                                                                                                                                                                                                                                                                                                                                                                                                                                                                                                                                                                                                                                                                                                                                                                                                                                                                                                                                                                                                                                                                                                                                                                                                                                                                                                                                                                                                                                                                                                                                                                                                                                                                                                                                                                                                                                                                                                                                                                                                                                                                                                                                                                                                                                                                                                                                                                                                                                                                                                                                                                                                                                                                                                                                                                                                                                                                                                                                                                                                                                                                                                                                                                                                                                                                                                                                                                                                                                                                                                                                   VERY SWEET 65 MUSTANG WITH LOW MILES. HAS POWER STEERING, POWER DISC BRAKES. MOSTLY NEW CONDITION. RESTORED. EXCELLENT PAINT, BODY AND FRAME. SO.CALIF. BLACK PLATE NO RUST. A JOY TO DRIVE. SENIOR OWNED AND DRIVEN. ORIGINAL 289 W/C/4 AUTO. 19,500 FIRM. NO TRADES.   \n",
       "2                                                                                                                                                                                                                                                                                                                                                                                                                                                                                                                                                                                                                                                                                                                                                                                                                                                                                                                                                                                                                                                                                                                                                                                                                                                                                                                                                                                                                                                                                                                                                                                                                                                                                                                                                                                                                                                                                                                                                                                                                                                                                                                                                                                                                                                                                                                                                                                                                                                                                                                                                                                                                                                                                                                                                                                                                                                                                                                                                                                                                                                                                                                                                                                                                                                                                                                                                                                                                                                                                                                                                                                                                                                                                                                                                                                                                                                                                                                                                                                                                                                                                                                                                                                                                                                                                                                                                                                                                                                                                                                                                                                                                                                                                                                                                                                                                                                                                                                                                                                                                                                                                                                                                                                                                                                                                                                                                                                                                                                                                                                                                                                                                                                                                                                                                                                                                                                                                                                                                                                                                                                                                                                                                                                                                                                                                                                                                                                                                                                                                                                                                                                                                                                                                                                                                                                                                                                                                                                                                                                                                                                                                                                                                                                                                                                                                                                                                                                                                                                                                                                                                                                                                                                                                                                                                                                                                                                                                                                                                                                                                                                                                                                                                                                                                                                                                                                                                                                                                                                                                                                                                                                                                                                                                                                                                                                                                                                                                                                                                                                                                                                                                                                                                                                                                                                                                                                                                                                                                                                                                                                                                                                                                                                                                                                                                                                                                                                                                                                                                                                                                                                                                                                                                                                                                                                                                                                                                                                                                                                                                                                                                                                                                                                                                                                                                                                                                                                                                                                                                                                                                                                                                                                                                                                                                                                                                                                                                                                                                                                                                                                                                                                                                                                                                                                                                                                                                                                                                                                                                                                                                                                                                                                                                                                                                                                                                                                                                                                                                                                                                                                                                                                                                                                                                                                                                                                                                                                                                                                                                                                                                                                                                                                                                                                                                                                                                                                                                                                                                                                                                                                                                                                                                                                                                                                                                                                                                                                                                                                                                                                                                                                                                                                                                                                                                                                                                                                                                                                                                                                                                                                                    Original owner well cared for Only 110k miles 4 cyl  5 speed manual New tires, new brakes, new front bearing! Just needs a driver Never been in an accident 4x4 Askin16,600.00 Jake 541â€“eight649616   \n",
       "3                                                                                                                                                                                                                                                                                                                                                                                                                                                                                                                                                                                                                                                                                                                                                                                                                                                                                                                                                                                                                                                                                                                                                                                                                                                                                                                                                                                                                                                                                                                                                                                                                                                                                                                                                                                                                                                                                                                                                                                                                                                                                                                                                                                                                                                                                                                                                                                                                                                                                                                                                                                                                                                                                                                                                                                                                                                                                                                                                                                                                                                                                                                                                                                                                                                                                                                                                                                                                                                                                                                                                                                                                                                                                                                                                                                                                                                                                                                                                                                                                                                                                                                                                                                                                                                                                                                                                                                                                                                                                                                                                                                                                                                                                                                                                                                                                                                                                                                                                                                                                                                                                                                                                                                                                                                                                                                                                                                                                                                                                                                                                                                                                                                                                                                                                                                                                                                                                                                                                                                                                                                                                                                                                                                                                                                      Sunrise Auto Sales Truck Shopping Simplified !!Â  Â Â Â Â Â ðŸ’¥ Buy Now :  3 Months with No Payments*Â Â    $0 Down Payment Required*   Â Rates as Low as 2.79% up to 84 Months*   Trades welcome no matter how much you owe*  *on approved credit, Advantis c.u tier one credit, not everyone qualifies. Â Â  Try our Delivery Service , No Risk , No ObligationÂ  Ask us how it works?SUNRISE AUTO SALES HAS BEEN DEDICATED TO CUSTOMER SERVICE AND QUALITY VEHICLES SINCE OUR INCEPTION IN 2004. OUR PASSION TO SERVE WILL FOSTER UNPARALLELED RELATIONSHIPS WITH OUR CLIENTS AND COMMUNITY.  TRUCK SHOPPING AMIDST COVID-19/CORONAVIRUS:Â  Â Online Ordering, Free No-Obligation Delivery,Â  As we face and deal with the challenges from the coronavirus, Sunrise is committed to providing top tier customer service experience you demand. The health and well being of our customers, employees, as well as the community are our top priority. We want to do everything we can to help slow the spread and transmission of the virus.Â  Social Distancing is recommended by The Centers for Disease Control & Prevention (CDC) and we have implemented new measures to protect our clients and employees.Â Â  Here is what we are doing for customers : FREE NATIONWIDE AND LOCAL NO-Obligation delivery Let us get you the photos and videos for you! Remote Express Purchasing available to both local and out of state buyers The health and safety of our employees and our customers are our number one priority. Please donâ€™t hesitate to reach out to us with questions.  Â Â Â Â Â Â Â STOCK #:Â  B76679Â  (*2018* *Ford* *F-350*)  Â Â Â Â Â Â Â Â Â CALL TODAY!Â  Â  ðŸ“ž ðŸ“² (503) 782-5660ðŸ“² ðŸ“žÂ   Â    VEHICLE SPECIFICATIONS  Â Â Â Â Â Â Â Â Â YEAR:Â Â  2018Â  Â  Â STOCK #:Â Â  B76679Â  Â Â Â Â Â Â Â Â MAKE:Â Â  Ford Â Â Â Â Â MODEL:Â Â  F-350 Â  Â  Â  Â  Â  Â  Â VIN:Â Â  1FT8W3B67JEB76679Â  Â  Â  Â  Â  Â TRIM:Â Â  Super Duty XLTÂ  Â MILEAGE:Â Â  47,400 Â  Â  Â  COLOR:Â Â  Oxford White \\t Â  Â  Â  Â  Â BODY:Â Â  Truck Â  Â  Â  Â TRANS:Â Â  Automatic Â  Â  Â  Â  Â ADÂ ID:Â Â  960405365056A981 Â  Â  ENGINE:Â Â  6.2L Flex Fuel V8 385hp 430ft. lbs. 8  Cyl  Â  Â  Â  Â  Â FUEL:Â Â  Flex Fuel Â  Â  Â  Â DRIVE:Â Â  4WD    Â Â Â   Â Â Â Â Â Â Â  âœ… 100% CREDIT APPROVAL IS OUR GOAL! ðŸš— Start Your 3 Minute Online Credit Application!Â * Copy this link into your browser:Â â†ª http://atmxi.com/financing/4018 ðŸš— Check out our many diesel trucks inventory!* Copy this link into your browser:Â â†ª http://atmxi.com/inventory/4018 ðŸš—Â  This Vehicle was Hand Selected, Safety Inspected, And Priced to SellÂ  ðŸ“‹Â  CARFAX Available on this 2018 Ford F-350  **Oregon's Premier Diesel Truck Store Since 2004** Here at Sunrise Auto Sales we will offer you the best financing available,with Credit Union Direct Lending we can offer rates as low as 2.79%!!! WOW ( requires 760 credit score and terms may vary or cap, Call us to find out ) also must quailify for membership in Credit union area, based on approved credit), It can't get any better than that!Please feel free to inquire about this program since some restrictions apply. Also ask aboutour credit programs for/credit challenged/bad credit/bk/judgements and liens.We offer Service Contracts (warranties) on most of our vehicles. Call today to schedule a test drive!  Â  Ask our sales Professionals about our Delivery Service No Obligation No Risk ! We are confident you will love our quality trucks and SUV's that's why we can offer this service, in a rare event you disagree we will simply take it back without any cost or obligation to you. Most competitors won't even bother to compete knowing their vehicle quality and reconditioning process does not hold a candle to ours.Â  We deliver to metro area and Southwest Washington at no charge and small fee all the way to Idaho, Montana California. As a full service dealership we will assist you to arrange shippment anywhere in the nation. certain restriction apply.* DEALER ADDRESS Sunrise Auto SalesÂ 16001 SE McLoughlin Blvd Milwaukie, OR 97267Â DA1146  Call today! ðŸ“ž ðŸ“² (503) 782-5660ðŸ“² ðŸ“žÂ   Subject to prior sale. The price listed for this vehicle does not include charges such as: License, Title, Registration Fees, State or Local Taxes, Finance Charges, Optional Credit or Liability Insurance, Delivery Fee, and negotiable State Documentary Service Fee. The Dealership makes no representations, expressed or implied, to any actual or prospective purchaser or owner of this vehicle as to the existence, ownership, accuracy, description or condition of this vehicle's listed equipment, accessories, price or any warranties. Vehicle Pricing - Where permitted by law, all dealer fees and amounts must be disclosed in a clear, conspicuous and legible fashion. There are no exclusions. The Dealership is not responsible for typographical errors in price or equipment listed. Any and all differences must be addressed prior to the sale of this vehicle. Sunrise Auto Sales has the hard to find Lifted gas and diesel trucks in Portland. Best deals in Portland on truck and SUV 's.Â  KF-350 and dually drw srw F350 f250 2500 and 3500 3500hd 7.3 6.0 6.0l 7.3l or 5.9 and 5.9l cummins diesel and Duramax 6.6 6.7 pickup trucks, long bed or short bed crew or extended cab flat bed power stroke. looking for a Lifted disel trucks? we got it covered.Â  Many 6.7 and 5.9 diesel lifted or stock flat bed, long bed or short bed. ddiesel disel dizel used lifted trucks pickup truckÂ With over 80 used trucks in stock we carry the Largest selection ofÂ  hard to find gas and diesel lifted trucks in PortlandÂ  truck and SUV, F-350 and dually drw dully f150 f-350 f350 2500 3500 3500hd f450 7.3 6.7 6.7l 6.0 6.0l 7.3l or 5.9 and 5.9l cummins diesel and Duramax 6.6 6.7 pickup trucks, long bed or short bed crew or extended cab flat bed power stroke. looking for a Lifted disel trucks? we got it covered.Â  disel dizel used lifted trucks pickup laramie bighorn lariat super crew quad cab.We also offer toyota prius, toyota camry, RAV4, Toyota Tundra, toyota sienna, honda cr v, Honda Pilot, honda odyssey, ford focus, Kia, rav, Honda Civic , Rio , Impreza, legacy, Subaru, Scion, Matrix, Honda, Kia, Mercedes , Elantra, Accord,Camrry, Hyundai, Expedition, 4runner,Toyota Prius, toyota camry, toyota rav4, hybrid, toyota tercel, toyota tundra, toyota tacoma, toyota sienna, toyota corolla, honda civic, honda accord,honda cr v, honda pilot, honda passport, honda prelude, honda odyssey, ford focus, Chevy, Hyundai, Kia, rav 4, Honda Civic , Rio , Impreza, legacy, Subaru, Scion, Matrix, Honda, Kia, Mercedes, Ford Focus , Elantra, Accord, Camrry, Hyundai, geo metro, vw jetta, outback, GMC Yukon XL, 2500, Ford Excursion, Chevrolet Suburban3500, 450, 250, tundra, toyota sienna, honda cr v, Honda Pilot, honda odyssey, ford focus, Kia, rav, Honda Civic , Rio , Impreza, legacy, Subaru, Scion, Matrix, Honda, Kia, Mercedes , Elantra, Accord,Camrry, Hyundai, Expedition, 4runner, 2010, 10, 2011, 11, 2012, 12, 2013, 13, 2014, 14, 2015, 15, 2016, 16, 2017, 17, 2018, 18 0 00 *GMC* *Yukon XL* *Cheap 2500 SLT 4X4 w/ Barn Doors * CALL/TEXT!* *Like New 2000 2500 SLT 4X4 w/ Barn Doors * CALL/TEXT! SUV* *6.0L 300.0hp* *Must See 2000 GMC Yukon XL 2500 SLT 4X4 w/ Barn Doors * CALL/TEXT! Gasoline - 2000 GMC Yukon XL yukon xl YUKON XL 2500 SLT 4X4 w/ Barn Doors * CALL/TEXT! Gasoline SUV Cheap - 2000 GMC Yukon XL (2500 SLT 4X4 w/ Barn Doors * CALL/TEXT!) Carfax Gasoline 6.0L 300.0hp - 2000 GMC Yukon XL 2500 SLT 4X4 w/ Barn Doors * CALL/TEXT! SUV 6.0L 300.0hp Gasoline - GMC Yukon XL 2500 SLT 4X4 * No cost delivery in portland metro area within a 50 miles radius.Â  depending on distance a small fee based on miles and distance could be applied to cover our expenses.Â  ask your sales professional for details. ceertain exclusions may apply._____________________________________________________________________________________________________________________   F 350, four wheel drive, 4 wheel drive, Used Vehicles, Automatic, automatics, 2014, 14, 2015, 15, 2016, 16, 2017, 17, 2018, 18, 2019, 19, 2020, 20, 2021, 21, 2022, 22 AD ID: 960405365056A981  Â    Powered by Automoxie.com   \n",
       "4  Carz PlanetÂ   Â Â Â Â Â Â Â STOCK #:Â Â 6999  Â  ðŸ’² ðŸ’² FOR BEST PRICE CALL OR TEXT SAMMY:Â Â 503-683-1212Â ðŸ“žVEHICLE SPECIFICATIONSÂ Â Â Â Â Â Â Â Â YEAR:Â Â  2015Â  Â Â Â Â Â Â Â Â MAKE:Â Â Â Ford Â Â Â Â Â MODEL:Â Â Â F-250 Â  Â STOCK #:Â Â  6999Â  Â  Â  Â  Â  Â  Â  Â VIN:Â Â  1FT7W2BT8FEC70315Â  Â  Â  Â  Â  Â TRIM:Â Â  Super Duty Lariat LIFTED DIESEL TRUCK AMERICAN Â Â MILEAGE:Â Â  107,055 Â  Â  Â  COLOR:Â Â  White / Adobe Â  Â  Â  Â  Â BODY:Â Â  Truck Â  Â  Â  Â TRANS:Â Â  Automatic Â  Â  Â  Â  Â ADÂ ID:Â Â  91C11CD15056A981Â  Â  ENGINE:Â Â  Power Stroke 6.7L Biodiesel Turbo V8 440hp 860ft. 8  Cyl  Â  Â  Â  Â  Â FUEL:Â Â  Diesel Â  Â  Â  Â DRIVE:Â Â  4WD Â  Â  Â  Â  Â  MPG:Â Â   City /  Hwy âš¡ âš¡ âš¡ âš¡ âš¡Â  CALL/TEXTÂ SAMMYÂ 503-683-1212Â âš¡Â âš¡Â âš¡Â âš¡Â âš¡Â âœ… We Finance Everyone - Good Credit, Bad Credit, No Credit! *âœ… Write-Offs, Repos, Bankruptcy, Collections - Approved! *âœ… Slow Payments, Judgements, Divorce - Approved! *âœ… Get Approved for a Loan in 30 minutes! *âœ… Nice Selection of High-Quality, Low Mileage Vehicles! *âœ… Extended Service Contracts Available! *âœ… Trade-Ins Welcome! We Will Buy Your Car For Top Dollar! * ðŸ’¥ ðŸ’¥ ðŸ’¥ GET APPROVED NOW!! GO TO http://atmxi.com/financing/3771Â  ðŸ’¥Â ðŸ’¥Â ðŸ’¥Â ðŸ’¥Â  âœ… For more ads by this dealer: http://atmxi.com/inventory/3771 More vehicle details:Â http://atmxi.com/82329/2915843I408Â Address: 19120 SE McLoughlin Blvd Gladstone, OR 97027 Phone:Â 503-683-1212Â Website: http://atmxi.com/dealer/3771 Â  Â  Â * Front air conditioning: automatic climate controlÂ  Â * Front air conditioning zones: dualÂ  Â  Â * Front airbags: dualÂ  Â  Â  Â  Â  Â  Â  Â  Â  Â  Â  Â  Â  Â  Â  Â  Â  Â  Â  Â  Â  Â  Â  Â  Â  Â * Side airbags: frontÂ  Â  Â * Side curtain airbags: frontÂ  Â  Â  Â  Â  Â  Â  Â  Â  Â  Â  Â  Â  Â  Â  Â  Â  Â  Â  Â * rearÂ  Â  Â * Side-curtain airbag rollover sensorÂ  Â  Â  Â  Â  Â  Â  Â  Â  Â  Â  Â  Â  * Antenna type: mastÂ  Â  Â * Auxiliary audio input: BluetoothÂ  Â  Â  Â  Â  Â  Â  Â  Â  Â  Â  Â  Â  Â  Â * USBÂ  Â  Â * jackÂ  Â  Â  Â  Â  Â  Â  Â  Â  Â  Â  Â  Â  Â  Â  Â  Â  Â  Â  Â  Â  Â  Â  Â  Â  Â  Â  Â  Â  Â  Â  Â  Â  Â  Â  Â  Â  * memory card slotÂ  Â  Â * In-Dash CD: MP3 PlaybackÂ  Â  Â  Â  Â  Â  Â  Â  Â  Â  Â  Â  Â  Â  Â  Â  Â  Â  * single discÂ  Â  Â * Premium brand: SonyÂ  Â  Â  Â  Â  Â  Â  Â  Â  Â  Â  Â  Â  Â  Â  Â  Â  Â  Â  Â  Â  Â  Â  * Radio: AM/FMÂ  Â  Â * HD radioÂ  Â  Â  Â  Â  Â  Â  Â  Â  Â  Â  Â  Â  Â  Â  Â  Â  Â  Â  Â  Â  Â  Â  Â  Â  Â  Â  Â  Â  Â  Â  Â  Â * touch screen displayÂ  Â  Â * voice operatedÂ  Â  Â  Â  Â  Â  Â  Â  Â  Â  Â  Â  Â  Â  Â  Â  Â  Â  Â  Â  Â  Â  Â  Â  Â  Â  Â  Â  Â * Satellite radio: SiriusXMÂ  Â  Â * Subwoofer: 1Â  Â  Â  Â  Â  Â  Â  Â  Â  Â  Â  Â  Â  Â  Â  Â  Â  Â  Â  Â  Â  Â  Â  Â  Â  Â  Â  Â  Â  Â  * Total speakers: 9Â  Â  Â * ABS: 4-wheelÂ  Â  Â  Â  Â  Â  Â  Â  Â  Â  Â  Â  Â  Â  Â  Â  Â  Â  Â  Â  Â  Â  Â  Â  Â  Â  Â  Â  Â  * Braking assistÂ  Â  Â * Electronic brakeforce distributionÂ  Â  Â  Â  Â  Â  Â  Â  Â  Â  Â  Â  Â  Â * Front brake diameter: 14.29Â  Â  Â * Front brake type: ventilated discÂ  Â  Â  Â  Â  Â  Â  Â  Â  Â  Â  Â  Â  Â  Â * Power brakesÂ  Â  Â * Rear brake diameter: 14.3Â  Â  Â  Â  Â  Â  Â  Â  Â  Â  Â  Â  Â  Â  Â  Â  Â  Â  Â  Â  * Rear brake type: ventilated discÂ  Â  Â * Armrests: rear center folding with storageÂ  Â  Â  Â  Â  Â  Â  * Dash trim: simulated woodÂ  Â  Â * Door trim: simulated woodÂ  Â  Â  Â  Â  Â  Â  Â  Â  Â  Â  Â  Â  Â  Â  Â  Â  Â  Â  * Floor mat material: carpetÂ  Â  Â * Floor material: carpetÂ  Â  Â  Â  Â  Â  Â  Â  Â  Â  Â  Â  Â  Â  Â  Â  Â  Â  Â  Â  Â  Â  Â  * Floor mats: frontÂ  Â  Â * rearÂ  Â  Â  Â  Â  Â  Â  Â  Â  Â  Â  Â  Â  Â  Â  Â  Â  Â  Â  Â  Â  Â  Â  Â  Â  Â  Â  Â  Â  Â  Â  Â  Â  Â  Â  Â  Â  * Steering wheel trim: leatherÂ  Â  Â * Adjustable pedals: powerÂ  Â  Â  Â  Â  Â  Â  Â  Â  Â  Â  Â  Â  Â  Â  Â  Â  Â  Â  Â  Â * Assist handle: frontÂ  Â  Â * rearÂ  Â  Â  Â  Â  Â  Â  Â  Â  Â  Â  Â  Â  Â  Â  Â  Â  Â  Â  Â  Â  Â  Â  Â  Â  Â  Â  Â  Â  Â  Â  Â  Â  Â  Â  Â  Â  * Center console: front console with armrest and storageÂ  Â  Â * Cruise controlÂ  Â  Â  Â  Â  Â  Â  Â  Â  Â  Â  Â  Â  Â  Â  Â  Â  Â  Â  Â  Â  Â  Â  Â  Â  Â  Â  Â  Â  * Cupholders: frontÂ  Â  Â * rearÂ  Â  Â  Â  Â  Â  Â  Â  Â  Â  Â  Â  Â  Â  Â  Â  Â  Â  Â  Â  Â  Â  Â  Â  Â  Â  Â  Â  Â  Â  Â  Â  Â  Â  Â  Â  Â  * Keypad entryÂ  Â  Â * Multi-function remote: keyless entryÂ  Â  Â  Â  Â  Â  Â  Â  Â  Â  Â  * One-touch windows: 2Â  Â  Â * Overhead console: frontÂ  Â  Â  Â  Â  Â  Â  Â  Â  Â  Â  Â  Â  Â  Â  Â  Â  Â  Â  Â  Â  Â * Power outlet(s): 115V frontÂ  Â  Â * 115V rearÂ  Â  Â  Â  Â  Â  Â  Â  Â  Â  Â  Â  Â  Â  Â  Â  Â  Â  Â  Â  Â  Â  Â  Â  Â  Â  Â  Â  Â  Â  Â  Â  * 12V frontÂ  Â  Â * 12V rearÂ  Â  Â  Â  Â  Â  Â  Â  Â  Â  Â  Â  Â  Â  Â  Â  Â  Â  Â  Â  Â  Â  Â  Â  Â  Â  Â  Â  Â  Â  Â  Â  Â  * Power steeringÂ  Â  Â * Reading lights: frontÂ  Â  Â  Â  Â  Â  Â  Â  Â  Â  Â  Â  Â  Â  Â  Â  Â  Â  Â  Â  Â  Â  Â  Â  * rearÂ  Â  Â * Rearview mirror: auto-dimmingÂ  Â  Â  Â  Â  Â  Â  Â  Â  Â  Â  Â  Â  Â  Â  * Retained accessory powerÂ  Â  Â * Steering wheel: tilt and telescopicÂ  Â  Â  Â  Â  Â  Â  Â  Â  Â  Â  Â  Â  Â * Steering wheel mounted controls: audioÂ  Â  Â * cruise controlÂ  Â  Â  Â  Â  Â  Â  Â  Â  Â  Â  Â  Â  Â  Â  Â  Â  Â  Â  Â  Â  Â  Â  Â  Â  Â  Â  Â  Â  * multi-functionÂ  Â  Â * phoneÂ  Â  Â  Â  Â  Â  Â  Â  Â  Â  Â  Â  Â  Â  Â  Â  Â  Â  Â  Â  Â  Â  Â  Â  Â  Â  Â  Â  Â  Â  Â  Â  Â  Â  Â  * voice controlÂ  Â  Â * Storage: cargo tie-down anchors and hooksÂ  Â  Â  Â  Â  Â  * door pocketsÂ  Â  Â * in dashÂ  Â  Â  Â  Â  Â  Â  Â  Â  Â  Â  Â  Â  Â  Â  Â  Â  Â  Â  Â  Â  Â  Â  Â  Â  Â  Â  Â  Â  Â  Â  Â  Â  Â  Â * sunglasses holderÂ  Â  Â * under front seatsÂ  Â  Â  Â  Â  Â  Â  Â  Â  Â  Â  Â  Â  Â  Â  Â  Â  Â  Â  Â  Â  Â  Â  Â  Â  Â  Â  * under rear seatsÂ  Â  Â * Vanity mirrors: dual illuminatingÂ  Â  Â  Â  Â  Â  Â  Â  Â  Â  Â  Â  Â  Â  * 4WD selector: electronic hi-loÂ  Â  Â * 4WD type: part timeÂ  Â  Â  Â  Â  Â  Â  Â  Â  Â  Â  Â  Â  Â  Â  Â  Â  Â  Â  Â  Â  Â  Â  Â  * Axle ratio: 3.73Â  Â  Â * Alternator: 200 ampsÂ  Â  Â  Â  Â  Â  Â  Â  Â  Â  Â  Â  Â  Â  Â  Â  Â  Â  Â  Â  Â  Â  Â  Â * Battery rating: 650 CCAÂ  Â  Â * Door handle color: body-colorÂ  Â  Â  Â  Â  Â  Â  Â  Â  Â  Â  Â  Â  Â  Â  Â  * Front bumper color: chromeÂ  Â  Â * Grille color: chrome surroundÂ  Â  Â  Â  Â  Â  Â  Â  Â  Â  Â  Â  Â  Â  Â  Â  Â * metallicÂ  Â  Â * Mirror color: blackÂ  Â  Â  Â  Â  Â  Â  Â  Â  Â  Â  Â  Â  Â  Â  Â  Â  Â  Â  Â  Â  Â  Â  Â  Â  * Pickup bed lightÂ  Â  Â * Pickup bed type: fleetsideÂ  Â  Â  Â  Â  Â  Â  Â  Â  Â  Â  Â  Â  Â  Â  Â  Â  Â  Â  Â  * Rear bumper color: chromeÂ  Â  Â * Tailgate: removableÂ  Â  Â  Â  Â  Â  Â  Â  Â  Â  Â  Â  Â  Â  Â  Â  Â  Â  Â  Â  Â  Â  Â  Â  Â * Infotainment: SYNCÂ  Â  Â * Infotainment screen size: 8 in.Â  Â  Â  Â  Â  Â  Â  Â  Â  Â  Â  Â  Â  Â  Â  Â  Â * Video system: auxiliary audio/video inputÂ  Â  Â * ClockÂ  Â  Â  Â  Â  Â  Â  Â  Â  Â  Â  Â  Â  Â  Â  Â  Â  Â  Â  Â  Â  Â  Â  Â  Â  Â  Â  Â  Â  Â  Â  Â  Â  Â  Â  Â  * CompassÂ  Â  Â * Engine hour meterÂ  Â  Â  Â  Â  Â  Â  Â  Â  Â  Â  Â  Â  Â  Â  Â  Â  Â  Â  Â  Â  Â  Â  Â  Â  Â * External temperature displayÂ  Â  Â * Fuel economy display: MPGÂ  Â  Â  Â  Â  Â  Â  Â  Â  Â  Â  Â  Â  Â  Â  Â  Â  Â * rangeÂ  Â  Â * Gauge: tachometerÂ  Â  Â  Â  Â  Â  Â  Â  Â  Â  Â  Â  Â  Â  Â  Â  Â  Â  Â  Â  Â  Â  Â  Â  Â  Â * Instrument cluster screen size: 4.2 in.Â  Â  Â * Multi-function displayÂ  Â  Â  Â  Â  Â  Â  Â  Â  Â  Â  Â  Â  Â  Â  Â  Â  Â  Â  Â  Â  Â  Â * Multi-functional information centerÂ  Â  Â * Trip odometerÂ  Â  Â  Â  Â  Â  Â  Â  Â  Â  Â  Â  Â  Â  Â  Â  Â  Â  Â  Â  Â  Â  Â  Â  Â  Â  Â  Â  Â  * Warnings and reminders: low fuel levelÂ  Â  Â * low oil levelÂ  Â  Â  Â  Â  Â  Â  Â  Â  Â  Â  Â  Â  Â  Â  Â  Â  Â  Â  Â  Â  Â  Â  Â  Â  Â  Â  Â  Â  Â  * tire fill alertÂ  Â  Â * Front fog lightsÂ  Â  Â  Â  Â  Â  Â  Â  Â  Â  Â  Â  Â  Â  Â  Â  Â  Â  Â  Â  Â  Â  Â  Â  Â  Â  Â  Â  * Headlights: auto delay offÂ  Â  Â * auto onÂ  Â  Â  Â  Â  Â  Â  Â  Â  Â  Â  Â  Â  Â  Â  Â  Â  Â  Â  Â  Â  Â  Â  Â  Â  Â  Â  Â  Â  Â  Â  Â  Â  Â  * halogenÂ  Â  Â * Taillights: rear centerÂ  Â  Â  Â  Â  Â  Â  Â  Â  Â  Â  Â  Â  Â  Â  Â  Â  Â  Â  Â  Â  Â  Â  Â * Side mirror adjustments: powerÂ  Â  Â * power foldingÂ  Â  Â  Â  Â  Â  Â  Â  Â  Â  Â  Â  Â  Â  Â  Â  Â  Â  Â  Â  Â  Â  Â  Â  Â  Â  Â  Â  Â  * power telescopingÂ  Â  Â * Side mirror type: spotter mirrorÂ  Â  Â  Â  Â  Â  Â  Â  Â  Â  Â  Â  Â  Â  Â  Â * towingÂ  Â  Â * Side mirrors: heatedÂ  Â  Â  Â  Â  Â  Â  Â  Â  Â  Â  Â  Â  Â  Â  Â  Â  Â  Â  Â  Â  Â  Â  Â  Â * integrated turn signalsÂ  Â  Â * Body side reinforcements: side impact door beamsÂ  Â  Â * Camera system: rearviewÂ  Â  Â  Â  Â  Â  Â  Â  Â  Â  Â  Â  Â  Â  Â  Â  Â  Â  Â  Â  * Child safety door locksÂ  Â  Â * Child seat anchors: LATCH systemÂ  Â  Â  Â  Â  Â  Â  Â  Â  Â  Â  Â  * Impact sensor: post-collision safety systemÂ  Â  Â * Parking sensors: rearÂ  Â  Â  Â  Â  Â  Â  Â  Â  Â  Â  Â  Â  Â  Â  Â  Â  Â  Â  Â  Â  Â  Â  Â  * Programmable safety keyÂ  Â  Â * Rearview monitorÂ  Â  Â  Â  Â  Â  Â  Â  Â  Â  Â  Â  Â  Â  Â  Â  Â  Â  Â  Â  Â  Â  Â  Â  Â  Â  * Front seatbelts: 3-pointÂ  Â  Â * Rear seatbelts: 3-pointÂ  Â  Â  Â  Â  Â  Â  Â  Â  Â  Â  Â  Â  Â  Â  Â  Â  Â  Â  Â  Â  Â  Â * Seatbelt pretensioners: frontÂ  Â  Â * Seatbelt warning sensor: frontÂ  Â  Â  Â  Â  Â  Â  Â  Â  Â  Â  Â  Â  Â  Â  Â  Â * Driver seat power adjustments: heightÂ  Â  Â * lumbarÂ  Â  Â  Â  Â  Â  Â  Â  Â  Â  Â  Â  Â  Â  Â  Â  Â  Â  Â  Â  Â  Â  Â  Â  Â  Â  Â  Â  Â  Â  Â  Â  Â  Â  Â * recliningÂ  Â  Â * 10Â  Â  Â  Â  Â  Â  Â  Â  Â  Â  Â  Â  Â  Â  Â  Â  Â  Â  Â  Â  Â  Â  Â  Â  Â  Â  Â  Â  Â  Â  Â  Â  Â  Â  Â  Â  Â  Â  * Front headrests: adjustableÂ  Â  Â * 2Â  Â  Â  Â  Â  Â  Â  Â  Â  Â  Â  Â  Â  Â  Â  Â  Â  Â  Â  Â  Â  Â  Â  Â  Â  Â  Â  Â  Â  Â  Â  Â  Â  Â  Â  Â  Â  Â  Â  * Front seat type: captains chairsÂ  Â  Â * Passenger seat power adjustments: heightÂ  Â  Â  Â  Â  Â  Â  Â * lumbarÂ  Â  Â * recliningÂ  Â  Â  Â  Â  Â  Â  Â  Â  Â  Â  Â  Â  Â  Â  Â  Â  Â  Â  Â  Â  Â  Â  Â  Â  Â  Â  Â  Â  Â  Â  Â  Â  * 10Â  Â  Â * Rear headrests: adjustableÂ  Â  Â  Â  Â  Â  Â  Â  Â  Â  Â  Â  Â  Â  Â  Â  Â  Â  Â  Â * 3Â  Â  Â * Rear seat folding: splitÂ  Â  Â  Â  Â  Â  Â  Â  Â  Â  Â  Â  Â  Â  Â  Â  Â  Â  Â  Â  Â  Â  Â * Rear seat type: 60-40 split benchÂ  Â  Â * Upholstery: leatherÂ  Â  Â  Â  Â  Â  Â  Â  Â  Â  Â  Â  Â  Â  Â  Â  Â  Â  Â  Â  Â  Â  Â  Â  Â  * 2-stage unlocking doorsÂ  Â  Â * Anti-theft system: alarmÂ  Â  Â  Â  Â  Â  Â  Â  Â  Â  Â  Â  Â  Â  Â  Â  Â  Â  Â  Â  Â  * engine immobilizerÂ  Â  Â * Power door locksÂ  Â  Â  Â  Â  Â  Â  Â  Â  Â  Â  Â  Â  Â  Â  Â  Â  Â  Â  Â  Â  Â  Â  Â  Â  Â  Â * Hill holder controlÂ  Â  Â * Roll stability controlÂ  Â  Â  Â  Â  Â  Â  Â  Â  Â  Â  Â  Â  Â  Â  Â  Â  Â  Â  Â  Â  Â  Â  Â  * Stability controlÂ  Â  Â * Traction controlÂ  Â  Â  Â  Â  Â  Â  Â  Â  Â  Â  Â  Â  Â  Â  Â  Â  Â  Â  Â  Â  Â  Â  Â  Â  Â  Â  Â   DEALER ADDRESS  Carz PlanetÂ  19120 SE McLoughlin Blvd Gladstone, OR 97027Â  DA3599  Call today! 503-683-1212Â ðŸ“žÂ  COPY THIS LINK AND PASTE TO YOUR BROWSER FOR MORE INFORMATION: Â Â Â Â Â Â Â Â Â Â Â Â Â http://atmxi.com/82329/2915843I408 CALL OR TEXT SAMMY AT 503-683-1212          BEAUTIFUL 2015 FORD F250 SUPER DUTY LIFTED LARIAT DIESEL TRUCK 4WD AMERICAN TRUCK THAT WAS JUST PRE-INSPECTED AND JUST SERVICED FOR ITS NEW OWNER! CLEAN TITLE AND IMMACULATE INSIDE AND OUT! IT HAS THE FOLLOWING OPTIONS: LIFTED, AMERICAN DIESEL TRUCK (NOT FROM CANADA), 4WD, FX4 OFF PKG, LARIAT ULTIMATE PACKAGE, NAVIGATION, POWER SLIDE MOON ROOF, MEMORY GROUP, REMOTE START SYSTEM, HEATED/COOLED FRONT SEATS, LEATHER SEATS, POWER SLIDING REAR WINDOW, CRUISE CONTROL. SONY PREMIUM STEREO, PARKING SENSORS, BACK UP CAMERA, AND SO MUCH MORE! BAD CREDIT, DIVORCE, NO CREDIT, BANKRUPTCY CAN HELP! WE ARE THE FINANCE KINGS! WE CAN HELP WITH ANY CREDIT PROBLEM! IN HOUSE FINANCING AVAILABLE ON APPROVED CREDIT! COME SEE US TODAY AND LET US HELP YOU DRIVE YOUR DREAM HOME TODAY!          DA#3599          CARZ PLANET         CALL OR TEXT SAMMY AT 503-683-1212similar vehicles: 2000 2001 2002 2003 2004 2005 2006 2007 2008 2009 2010 2011 2012 2013 2015 2015 02 03 01 00 04 05 06 07 08 09 10 11 12 13 14   7.3 6.4 6.7 6.0 dually dully diesel disel trucks power stroke powerstroke lariat xlt xl king ranch lifted trucks lifted truck diesel lifted trucks long bed short bed pickup trucks  5.9 6.7 5.7 cummins diesel cumins cummings diesel lifted duramax 6.6 Allison train diesel lifted truck trucks 6 speed 5 speed manual trani flat bed slt lt ltz z71 sierra lifted truck off road trucks used trucks trucks lifted  diesel Subject to prior sale. The price listed for this vehicle does not include charges such as: License, Title, Registration Fees, State or Local Taxes, Finance Charges, Optional Credit or Liability Insurance, Delivery Fee, and negotiable State Documentary Service Fee. The Dealership makes no representations, expressed or implied, to any actual or prospective purchaser or owner of this vehicle as to the existence, ownership, accuracy, description or condition of this vehicle's listed equipment, accessories, price or any warranties. Vehicle Pricing - Where permitted by law, all dealer fees and amounts must be disclosed in a clear, conspicuous and legible fashion. There are no exclusions. The Dealership is not responsible for typographical errors in price or equipment listed. Any and all differences must be addressed prior to the sale of this vehicle. prices do not include $115 doc fee or title/registration and taxes. Â Dealer not responsible for errors on advertising subject to rules and laws of State of Oregon and federal.Â  AD expires afterÂ  72 hours after publication,Â Â in an event of multiple postings of the same vehicle by dealer the newest posting sate is the valid advertising of the price vehicle where permitted by law.Â  All vehicles are sold as is. Extended service contract is available for additonal charge through a third party vendor.Â *On Approved Credit   F 250, Used Diesel, Diesels, four wheel drive, 4 wheel drive, Used Vehicles, automatics, 2011, 11, 2012, 12, 2013, 13, 2014, 14, 2015, 15, 2016, 16, 2017, 17, 2018, 18, 2019, 19 AD ID: 91C11CD15056A981   Powered by Automoxie.com   \n",
       "\n",
       "  county state       lat        long              posting_date Unnamed: 26  \\\n",
       "0    NaN    or  31610808  -112248414  2021-05-01T10:36:33-0700         NaN   \n",
       "1    NaN    or  42343411   -12283449  2021-05-01T10:35:03-0700         NaN   \n",
       "2    NaN    or     42287     -122928  2021-05-01T10:21:06-0700         NaN   \n",
       "3    NaN    or  45407237  -122625196  2021-05-01T10:20:09-0700         NaN   \n",
       "4    NaN    or  45385979  -122608301  2021-05-01T10:19:16-0700         NaN   \n",
       "\n",
       "  Unnamed: 27 Unnamed: 28 Unnamed: 29 Unnamed: 30 Unnamed: 31 Unnamed: 32  \\\n",
       "0         NaN         NaN         NaN         NaN         NaN         NaN   \n",
       "1         NaN         NaN         NaN         NaN         NaN         NaN   \n",
       "2         NaN         NaN         NaN         NaN         NaN         NaN   \n",
       "3         NaN         NaN         NaN         NaN         NaN         NaN   \n",
       "4         NaN         NaN         NaN         NaN         NaN         NaN   \n",
       "\n",
       "  Unnamed: 33 Unnamed: 34  Unnamed: 35 Unnamed: 36 Unnamed: 37 Unnamed: 38  \\\n",
       "0         NaN         NaN          NaN         NaN         NaN         NaN   \n",
       "1         NaN         NaN          NaN         NaN         NaN         NaN   \n",
       "2         NaN         NaN          NaN         NaN         NaN         NaN   \n",
       "3         NaN         NaN          NaN         NaN         NaN         NaN   \n",
       "4         NaN         NaN          NaN         NaN         NaN         NaN   \n",
       "\n",
       "   Unnamed: 39 Unnamed: 40  Unnamed: 41  Unnamed: 42 Unnamed: 43 Unnamed: 44  \\\n",
       "0          NaN         NaN          NaN          NaN         NaN         NaN   \n",
       "1          NaN         NaN          NaN          NaN         NaN         NaN   \n",
       "2          NaN         NaN          NaN          NaN         NaN         NaN   \n",
       "3          NaN         NaN          NaN          NaN         NaN         NaN   \n",
       "4          NaN         NaN          NaN          NaN         NaN         NaN   \n",
       "\n",
       "  Unnamed: 45  Unnamed: 46  Unnamed: 47 Unnamed: 48  Unnamed: 49  Unnamed: 50  \\\n",
       "0         NaN          NaN          NaN         NaN          NaN          NaN   \n",
       "1         NaN          NaN          NaN         NaN          NaN          NaN   \n",
       "2         NaN          NaN          NaN         NaN          NaN          NaN   \n",
       "3         NaN          NaN          NaN         NaN          NaN          NaN   \n",
       "4         NaN          NaN          NaN         NaN          NaN          NaN   \n",
       "\n",
       "   Unnamed: 51  Unnamed: 52  Unnamed: 53 Unnamed: 54  Unnamed: 55  \\\n",
       "0          NaN          NaN          NaN         NaN          NaN   \n",
       "1          NaN          NaN          NaN         NaN          NaN   \n",
       "2          NaN          NaN          NaN         NaN          NaN   \n",
       "3          NaN          NaN          NaN         NaN          NaN   \n",
       "4          NaN          NaN          NaN         NaN          NaN   \n",
       "\n",
       "   Unnamed: 56  Unnamed: 57 Unnamed: 58  Unnamed: 59 Unnamed: 60  Unnamed: 61  \\\n",
       "0          NaN          NaN         NaN          NaN         NaN          NaN   \n",
       "1          NaN          NaN         NaN          NaN         NaN          NaN   \n",
       "2          NaN          NaN         NaN          NaN         NaN          NaN   \n",
       "3          NaN          NaN         NaN          NaN         NaN          NaN   \n",
       "4          NaN          NaN         NaN          NaN         NaN          NaN   \n",
       "\n",
       "   Unnamed: 62 Unnamed: 63  \n",
       "0          NaN         NaN  \n",
       "1          NaN         NaN  \n",
       "2          NaN         NaN  \n",
       "3          NaN         NaN  \n",
       "4          NaN         NaN  "
      ]
     },
     "execution_count": 4,
     "metadata": {},
     "output_type": "execute_result"
    }
   ],
   "source": [
    "auto_xls.head()"
   ]
  },
  {
   "cell_type": "markdown",
   "metadata": {},
   "source": [
    "## Quick Overview abou the dataset"
   ]
  },
  {
   "cell_type": "code",
   "execution_count": null,
   "metadata": {},
   "outputs": [],
   "source": [
    "#auto_xls.manufacturer.unique()"
   ]
  },
  {
   "cell_type": "markdown",
   "metadata": {},
   "source": [
    "### Quality Analysis"
   ]
  },
  {
   "cell_type": "markdown",
   "metadata": {},
   "source": [
    "#### year: non integer type and missing value \n",
    "#### price : missing values and non numeric values\n",
    "#### cyllinder : non integer type, some text information\n",
    "#### Manufacturer : categorical data\n",
    "\n",
    "\n",
    "\n"
   ]
  },
  {
   "cell_type": "code",
   "execution_count": 5,
   "metadata": {},
   "outputs": [],
   "source": [
    "#auto_xls.info()"
   ]
  },
  {
   "cell_type": "code",
   "execution_count": 6,
   "metadata": {},
   "outputs": [
    {
     "data": {
      "text/html": [
       "<div>\n",
       "<style scoped>\n",
       "    .dataframe tbody tr th:only-of-type {\n",
       "        vertical-align: middle;\n",
       "    }\n",
       "\n",
       "    .dataframe tbody tr th {\n",
       "        vertical-align: top;\n",
       "    }\n",
       "\n",
       "    .dataframe thead th {\n",
       "        text-align: right;\n",
       "    }\n",
       "</style>\n",
       "<table border=\"1\" class=\"dataframe\">\n",
       "  <thead>\n",
       "    <tr style=\"text-align: right;\">\n",
       "      <th></th>\n",
       "      <th>price</th>\n",
       "      <th>year</th>\n",
       "      <th>manufacturer</th>\n",
       "      <th>cylinders</th>\n",
       "      <th>fuel</th>\n",
       "      <th>transmission</th>\n",
       "    </tr>\n",
       "  </thead>\n",
       "  <tbody>\n",
       "    <tr>\n",
       "      <th>0</th>\n",
       "      <td>6888</td>\n",
       "      <td>2014</td>\n",
       "      <td>nissan</td>\n",
       "      <td>4 cylinders</td>\n",
       "      <td>gas</td>\n",
       "      <td>automatic</td>\n",
       "    </tr>\n",
       "    <tr>\n",
       "      <th>1</th>\n",
       "      <td>19500</td>\n",
       "      <td>1965</td>\n",
       "      <td>ford</td>\n",
       "      <td>8 cylinders</td>\n",
       "      <td>gas</td>\n",
       "      <td>automatic</td>\n",
       "    </tr>\n",
       "    <tr>\n",
       "      <th>2</th>\n",
       "      <td>16600</td>\n",
       "      <td>2008</td>\n",
       "      <td>toyota</td>\n",
       "      <td>4 cylinders</td>\n",
       "      <td>gas</td>\n",
       "      <td>manual</td>\n",
       "    </tr>\n",
       "    <tr>\n",
       "      <th>3</th>\n",
       "      <td>0</td>\n",
       "      <td>2018</td>\n",
       "      <td>ford</td>\n",
       "      <td>8 cylinders</td>\n",
       "      <td>gas</td>\n",
       "      <td>automatic</td>\n",
       "    </tr>\n",
       "    <tr>\n",
       "      <th>4</th>\n",
       "      <td>0</td>\n",
       "      <td>2015</td>\n",
       "      <td>ford</td>\n",
       "      <td>8 cylinders</td>\n",
       "      <td>diesel</td>\n",
       "      <td>automatic</td>\n",
       "    </tr>\n",
       "  </tbody>\n",
       "</table>\n",
       "</div>"
      ],
      "text/plain": [
       "   price  year manufacturer    cylinders    fuel transmission\n",
       "0   6888  2014       nissan  4 cylinders     gas    automatic\n",
       "1  19500  1965         ford  8 cylinders     gas    automatic\n",
       "2  16600  2008       toyota  4 cylinders     gas       manual\n",
       "3      0  2018         ford  8 cylinders     gas    automatic\n",
       "4      0  2015         ford  8 cylinders  diesel    automatic"
      ]
     },
     "execution_count": 6,
     "metadata": {},
     "output_type": "execute_result"
    }
   ],
   "source": [
    "df2 = auto_xls[['price', 'year', 'manufacturer', 'cylinders', 'fuel','transmission']]\n",
    "df2.head()"
   ]
  },
  {
   "cell_type": "code",
   "execution_count": 94,
   "metadata": {},
   "outputs": [],
   "source": [
    "df2 = df2[df2.year.astype(str).str.isnumeric()]"
   ]
  },
  {
   "cell_type": "code",
   "execution_count": 95,
   "metadata": {},
   "outputs": [],
   "source": [
    "df2 = df2[df2['year'] != 45382346]"
   ]
  },
  {
   "cell_type": "code",
   "execution_count": 96,
   "metadata": {},
   "outputs": [],
   "source": [
    "#df2.dropna(subset = ['year'], inplace = True)"
   ]
  },
  {
   "cell_type": "code",
   "execution_count": 97,
   "metadata": {},
   "outputs": [],
   "source": [
    "df2['year'] = df2.year.astype(int)"
   ]
  },
  {
   "cell_type": "code",
   "execution_count": 98,
   "metadata": {},
   "outputs": [
    {
     "data": {
      "text/plain": [
       "array([2014, 1965, 2008, 2007, 2011, 2015, 2012, 1991, 2006, 2010, 2013,\n",
       "       2002, 2005, 2016, 2017, 2003, 1996, 2001, 2004, 2019, 2000, 2018,\n",
       "       2009, 1997, 1999, 1998, 2020, 1994, 1949, 1972, 1932, 1990, 1987,\n",
       "       1983, 1995, 1980, 1969, 1981, 2021, 1988, 1986, 1975, 1993, 1985,\n",
       "       1978, 1960, 1970, 1957, 1982, 1984, 1989, 1929, 1968, 1979, 1967,\n",
       "       1959, 1958, 1947, 1964, 1976, 1941, 1966, 1977, 1956, 1971, 1955,\n",
       "       1974, 1953, 1963, 1948, 1928, 1992, 1951, 1961, 1973, 1962, 1942,\n",
       "       1930, 1954, 1952, 1923, 1931, 1939, 1935, 1936, 1924, 1938, 1933])"
      ]
     },
     "execution_count": 98,
     "metadata": {},
     "output_type": "execute_result"
    }
   ],
   "source": [
    "df2['year'].unique()"
   ]
  },
  {
   "cell_type": "code",
   "execution_count": 99,
   "metadata": {},
   "outputs": [
    {
     "name": "stderr",
     "output_type": "stream",
     "text": [
      "/Users/khazi/opt/anaconda3/lib/python3.8/site-packages/seaborn/_decorators.py:36: FutureWarning: Pass the following variables as keyword args: x, y. From version 0.12, the only valid positional argument will be `data`, and passing other arguments without an explicit keyword will result in an error or misinterpretation.\n",
      "  warnings.warn(\n"
     ]
    },
    {
     "data": {
      "text/plain": [
       "Text(0.5, 1.0, 'Cars Manufactured Every Year')"
      ]
     },
     "execution_count": 99,
     "metadata": {},
     "output_type": "execute_result"
    },
    {
     "data": {
      "image/png": "[encoded data removed]",
      "text/plain": [
       "<Figure size 720x360 with 1 Axes>"
      ]
     },
     "metadata": {
      "needs_background": "light"
     },
     "output_type": "display_data"
    }
   ],
   "source": [
    "car_count  = df2['year'].value_counts()\n",
    "car_count = car_count[:15,]\n",
    "plt.figure(figsize=(10,5))\n",
    "sns.barplot(car_count.index,car_count.values,alpha=0.9)\n",
    "plt.xlabel(\"Year\", size=15)\n",
    "plt.ylabel(\"Number of Cars\", size=15)\n",
    "plt.title(\"Cars Manufactured Every Year\", size=18)"
   ]
  },
  {
   "cell_type": "code",
   "execution_count": 92,
   "metadata": {},
   "outputs": [],
   "source": [
    "df2 = df2[df2.price.astype(str).str.isnumeric()]"
   ]
  },
  {
   "cell_type": "code",
   "execution_count": 14,
   "metadata": {},
   "outputs": [
    {
     "data": {
      "text/plain": [
       "price              0\n",
       "year               0\n",
       "manufacturer     965\n",
       "cylinders       9292\n",
       "fuel             212\n",
       "transmission     304\n",
       "dtype: int64"
      ]
     },
     "execution_count": 14,
     "metadata": {},
     "output_type": "execute_result"
    }
   ],
   "source": [
    "df2.isnull().sum()"
   ]
  },
  {
   "cell_type": "code",
   "execution_count": 15,
   "metadata": {},
   "outputs": [],
   "source": [
    "#df2.dropna(subset = ['price'], inplace = True)"
   ]
  },
  {
   "cell_type": "code",
   "execution_count": 17,
   "metadata": {},
   "outputs": [],
   "source": [
    "df2['price'] = df2.price.astype(int)"
   ]
  },
  {
   "cell_type": "code",
   "execution_count": 19,
   "metadata": {},
   "outputs": [
    {
     "data": {
      "text/plain": [
       "<matplotlib.collections.PathCollection at 0x7faa99bc4a30>"
      ]
     },
     "execution_count": 19,
     "metadata": {},
     "output_type": "execute_result"
    },
    {
     "data": {
      "image/png": "[encoded data removed]",
      "text/plain": [
       "<Figure size 432x288 with 1 Axes>"
      ]
     },
     "metadata": {
      "needs_background": "light"
     },
     "output_type": "display_data"
    }
   ],
   "source": [
    "# price outliers \n",
    "plt.scatter(df2.year, df2.price, alpha=0.5)"
   ]
  },
  {
   "cell_type": "code",
   "execution_count": 20,
   "metadata": {},
   "outputs": [],
   "source": [
    "# filter out the prices of the cars below 700 euro\n",
    "df2 = df2[df2['price'] >= 700]"
   ]
  },
  {
   "cell_type": "code",
   "execution_count": 21,
   "metadata": {},
   "outputs": [
    {
     "name": "stderr",
     "output_type": "stream",
     "text": [
      "/Users/khazi/opt/anaconda3/lib/python3.8/site-packages/seaborn/_decorators.py:36: FutureWarning: Pass the following variables as keyword args: x, y. From version 0.12, the only valid positional argument will be `data`, and passing other arguments without an explicit keyword will result in an error or misinterpretation.\n",
      "  warnings.warn(\n"
     ]
    },
    {
     "data": {
      "text/plain": [
       "Text(0.5, 1.0, 'Price range')"
      ]
     },
     "execution_count": 21,
     "metadata": {},
     "output_type": "execute_result"
    },
    {
     "data": {
      "image/png": "[encoded data removed]",
      "text/plain": [
       "<Figure size 720x360 with 1 Axes>"
      ]
     },
     "metadata": {
      "needs_background": "light"
     },
     "output_type": "display_data"
    }
   ],
   "source": [
    "car_price  = df2['price'].value_counts(sort=True)\n",
    "car_price = car_price[:20,]\n",
    "plt.figure(figsize=(10,5))\n",
    "sns.barplot(car_price.values, car_price.index,alpha=0.9)\n",
    "plt.ylabel(\"Car Price\", size=15)\n",
    "plt.xlabel(\"Number of cars\", size=15)\n",
    "plt.title(\"Price range\", size=18)"
   ]
  },
  {
   "cell_type": "code",
   "execution_count": 22,
   "metadata": {},
   "outputs": [
    {
     "data": {
      "text/html": [
       "<div>\n",
       "<style scoped>\n",
       "    .dataframe tbody tr th:only-of-type {\n",
       "        vertical-align: middle;\n",
       "    }\n",
       "\n",
       "    .dataframe tbody tr th {\n",
       "        vertical-align: top;\n",
       "    }\n",
       "\n",
       "    .dataframe thead th {\n",
       "        text-align: right;\n",
       "    }\n",
       "</style>\n",
       "<table border=\"1\" class=\"dataframe\">\n",
       "  <thead>\n",
       "    <tr style=\"text-align: right;\">\n",
       "      <th></th>\n",
       "      <th>price</th>\n",
       "      <th>year</th>\n",
       "    </tr>\n",
       "  </thead>\n",
       "  <tbody>\n",
       "    <tr>\n",
       "      <th>count</th>\n",
       "      <td>2.072900e+04</td>\n",
       "      <td>20729.000000</td>\n",
       "    </tr>\n",
       "    <tr>\n",
       "      <th>mean</th>\n",
       "      <td>1.733032e+04</td>\n",
       "      <td>2009.793188</td>\n",
       "    </tr>\n",
       "    <tr>\n",
       "      <th>std</th>\n",
       "      <td>2.683771e+04</td>\n",
       "      <td>9.782645</td>\n",
       "    </tr>\n",
       "    <tr>\n",
       "      <th>min</th>\n",
       "      <td>7.000000e+02</td>\n",
       "      <td>1910.000000</td>\n",
       "    </tr>\n",
       "    <tr>\n",
       "      <th>25%</th>\n",
       "      <td>6.500000e+03</td>\n",
       "      <td>2007.000000</td>\n",
       "    </tr>\n",
       "    <tr>\n",
       "      <th>50%</th>\n",
       "      <td>1.247500e+04</td>\n",
       "      <td>2012.000000</td>\n",
       "    </tr>\n",
       "    <tr>\n",
       "      <th>75%</th>\n",
       "      <td>2.499000e+04</td>\n",
       "      <td>2016.000000</td>\n",
       "    </tr>\n",
       "    <tr>\n",
       "      <th>max</th>\n",
       "      <td>3.226714e+06</td>\n",
       "      <td>2022.000000</td>\n",
       "    </tr>\n",
       "  </tbody>\n",
       "</table>\n",
       "</div>"
      ],
      "text/plain": [
       "              price          year\n",
       "count  2.072900e+04  20729.000000\n",
       "mean   1.733032e+04   2009.793188\n",
       "std    2.683771e+04      9.782645\n",
       "min    7.000000e+02   1910.000000\n",
       "25%    6.500000e+03   2007.000000\n",
       "50%    1.247500e+04   2012.000000\n",
       "75%    2.499000e+04   2016.000000\n",
       "max    3.226714e+06   2022.000000"
      ]
     },
     "execution_count": 22,
     "metadata": {},
     "output_type": "execute_result"
    }
   ],
   "source": [
    "df2.describe()"
   ]
  },
  {
   "cell_type": "code",
   "execution_count": 23,
   "metadata": {},
   "outputs": [],
   "source": [
    "## cylinders\n",
    "def cyl(temp):\n",
    "    x = str(temp).split(' ')\n",
    "    return(str(x[0]))\n",
    "\n",
    "df2.cylinders = df2.cylinders.apply(cyl)\n",
    "\n",
    "\n",
    "df2 = df2[df2.cylinders!=\"nan\"] \n",
    "df2 = df2[df2.cylinders!=\"other\"]\n",
    "df2 = df2[df2.cylinders!=\"\"] \n",
    "df2.cylinders = df2.cylinders.astype('int')"
   ]
  },
  {
   "cell_type": "code",
   "execution_count": 24,
   "metadata": {},
   "outputs": [
    {
     "data": {
      "text/plain": [
       "array([ 4,  8,  6,  5, 12, 10,  3])"
      ]
     },
     "execution_count": 24,
     "metadata": {},
     "output_type": "execute_result"
    }
   ],
   "source": [
    "df2.cylinders.unique()"
   ]
  },
  {
   "cell_type": "code",
   "execution_count": 25,
   "metadata": {},
   "outputs": [
    {
     "name": "stderr",
     "output_type": "stream",
     "text": [
      "/Users/khazi/opt/anaconda3/lib/python3.8/site-packages/seaborn/_decorators.py:36: FutureWarning: Pass the following variables as keyword args: x, y. From version 0.12, the only valid positional argument will be `data`, and passing other arguments without an explicit keyword will result in an error or misinterpretation.\n",
      "  warnings.warn(\n"
     ]
    },
    {
     "data": {
      "text/plain": [
       "Text(0.5, 1.0, 'Car-Cylinders ratio')"
      ]
     },
     "execution_count": 25,
     "metadata": {},
     "output_type": "execute_result"
    },
    {
     "data": {
      "image/png": "[encoded data removed]",
      "text/plain": [
       "<Figure size 720x360 with 1 Axes>"
      ]
     },
     "metadata": {
      "needs_background": "light"
     },
     "output_type": "display_data"
    }
   ],
   "source": [
    "car_cylind  = df2['cylinders'].value_counts(sort=True)\n",
    "car_cylind = car_cylind[:10,]\n",
    "plt.figure(figsize=(10,5))\n",
    "sns.barplot(car_cylind.index,car_cylind.values, alpha=0.9)\n",
    "plt.ylabel(\"Number of Cars\", size=15)\n",
    "plt.xlabel(\"Number of Cylinder\", size=15)\n",
    "plt.title(\"Car-Cylinders ratio\", size=18)"
   ]
  },
  {
   "cell_type": "code",
   "execution_count": 26,
   "metadata": {},
   "outputs": [],
   "source": [
    "# fuel type\n"
   ]
  },
  {
   "cell_type": "code",
   "execution_count": 27,
   "metadata": {},
   "outputs": [
    {
     "data": {
      "text/plain": [
       "array(['gas', 'diesel', 'hybrid', 'electric', 'other', nan], dtype=object)"
      ]
     },
     "execution_count": 27,
     "metadata": {},
     "output_type": "execute_result"
    }
   ],
   "source": [
    "df2.fuel.unique()"
   ]
  },
  {
   "cell_type": "code",
   "execution_count": 28,
   "metadata": {},
   "outputs": [
    {
     "data": {
      "text/html": [
       "<div>\n",
       "<style scoped>\n",
       "    .dataframe tbody tr th:only-of-type {\n",
       "        vertical-align: middle;\n",
       "    }\n",
       "\n",
       "    .dataframe tbody tr th {\n",
       "        vertical-align: top;\n",
       "    }\n",
       "\n",
       "    .dataframe thead th {\n",
       "        text-align: right;\n",
       "    }\n",
       "</style>\n",
       "<table border=\"1\" class=\"dataframe\">\n",
       "  <thead>\n",
       "    <tr style=\"text-align: right;\">\n",
       "      <th></th>\n",
       "      <th>price</th>\n",
       "      <th>year</th>\n",
       "      <th>manufacturer</th>\n",
       "      <th>cylinders</th>\n",
       "      <th>fuel</th>\n",
       "      <th>transmission</th>\n",
       "    </tr>\n",
       "  </thead>\n",
       "  <tbody>\n",
       "    <tr>\n",
       "      <th>10057</th>\n",
       "      <td>7995</td>\n",
       "      <td>2010</td>\n",
       "      <td>ford</td>\n",
       "      <td>6</td>\n",
       "      <td>NaN</td>\n",
       "      <td>manual</td>\n",
       "    </tr>\n",
       "    <tr>\n",
       "      <th>20382</th>\n",
       "      <td>24900</td>\n",
       "      <td>2001</td>\n",
       "      <td>chevrolet</td>\n",
       "      <td>8</td>\n",
       "      <td>NaN</td>\n",
       "      <td>manual</td>\n",
       "    </tr>\n",
       "    <tr>\n",
       "      <th>20723</th>\n",
       "      <td>13900</td>\n",
       "      <td>2014</td>\n",
       "      <td>bmw</td>\n",
       "      <td>4</td>\n",
       "      <td>NaN</td>\n",
       "      <td>automatic</td>\n",
       "    </tr>\n",
       "    <tr>\n",
       "      <th>20724</th>\n",
       "      <td>10000</td>\n",
       "      <td>2013</td>\n",
       "      <td>volkswagen</td>\n",
       "      <td>5</td>\n",
       "      <td>NaN</td>\n",
       "      <td>automatic</td>\n",
       "    </tr>\n",
       "    <tr>\n",
       "      <th>20725</th>\n",
       "      <td>14500</td>\n",
       "      <td>2012</td>\n",
       "      <td>toyota</td>\n",
       "      <td>4</td>\n",
       "      <td>NaN</td>\n",
       "      <td>automatic</td>\n",
       "    </tr>\n",
       "    <tr>\n",
       "      <th>20791</th>\n",
       "      <td>12900</td>\n",
       "      <td>2013</td>\n",
       "      <td>ford</td>\n",
       "      <td>6</td>\n",
       "      <td>NaN</td>\n",
       "      <td>automatic</td>\n",
       "    </tr>\n",
       "    <tr>\n",
       "      <th>20793</th>\n",
       "      <td>4900</td>\n",
       "      <td>2006</td>\n",
       "      <td>honda</td>\n",
       "      <td>4</td>\n",
       "      <td>NaN</td>\n",
       "      <td>automatic</td>\n",
       "    </tr>\n",
       "    <tr>\n",
       "      <th>20794</th>\n",
       "      <td>7800</td>\n",
       "      <td>2007</td>\n",
       "      <td>honda</td>\n",
       "      <td>4</td>\n",
       "      <td>NaN</td>\n",
       "      <td>automatic</td>\n",
       "    </tr>\n",
       "    <tr>\n",
       "      <th>20796</th>\n",
       "      <td>13900</td>\n",
       "      <td>2014</td>\n",
       "      <td>bmw</td>\n",
       "      <td>4</td>\n",
       "      <td>NaN</td>\n",
       "      <td>automatic</td>\n",
       "    </tr>\n",
       "    <tr>\n",
       "      <th>20797</th>\n",
       "      <td>17700</td>\n",
       "      <td>2012</td>\n",
       "      <td>chevrolet</td>\n",
       "      <td>6</td>\n",
       "      <td>NaN</td>\n",
       "      <td>manual</td>\n",
       "    </tr>\n",
       "  </tbody>\n",
       "</table>\n",
       "</div>"
      ],
      "text/plain": [
       "       price  year manufacturer  cylinders fuel transmission\n",
       "10057   7995  2010         ford          6  NaN       manual\n",
       "20382  24900  2001    chevrolet          8  NaN       manual\n",
       "20723  13900  2014          bmw          4  NaN    automatic\n",
       "20724  10000  2013   volkswagen          5  NaN    automatic\n",
       "20725  14500  2012       toyota          4  NaN    automatic\n",
       "20791  12900  2013         ford          6  NaN    automatic\n",
       "20793   4900  2006        honda          4  NaN    automatic\n",
       "20794   7800  2007        honda          4  NaN    automatic\n",
       "20796  13900  2014          bmw          4  NaN    automatic\n",
       "20797  17700  2012    chevrolet          6  NaN       manual"
      ]
     },
     "execution_count": 28,
     "metadata": {},
     "output_type": "execute_result"
    }
   ],
   "source": [
    "df2[df2.fuel.isna()]"
   ]
  },
  {
   "cell_type": "code",
   "execution_count": 29,
   "metadata": {},
   "outputs": [],
   "source": [
    "df2 = df2[~df2.fuel.isna()]"
   ]
  },
  {
   "cell_type": "code",
   "execution_count": 30,
   "metadata": {},
   "outputs": [
    {
     "data": {
      "text/plain": [
       "array(['gas', 'diesel', 'hybrid', 'electric', 'other'], dtype=object)"
      ]
     },
     "execution_count": 30,
     "metadata": {},
     "output_type": "execute_result"
    }
   ],
   "source": [
    "df2.fuel.unique()"
   ]
  },
  {
   "cell_type": "code",
   "execution_count": 31,
   "metadata": {},
   "outputs": [],
   "source": [
    "df2.fuel = df2.fuel[df2.fuel.astype('str').str.isalpha()]\n",
    "df2.fuel = df2['fuel'].astype('str').str.slice(0,3)"
   ]
  },
  {
   "cell_type": "code",
   "execution_count": 32,
   "metadata": {},
   "outputs": [
    {
     "name": "stderr",
     "output_type": "stream",
     "text": [
      "/Users/khazi/opt/anaconda3/lib/python3.8/site-packages/seaborn/_decorators.py:36: FutureWarning: Pass the following variables as keyword args: x, y. From version 0.12, the only valid positional argument will be `data`, and passing other arguments without an explicit keyword will result in an error or misinterpretation.\n",
      "  warnings.warn(\n"
     ]
    },
    {
     "data": {
      "text/plain": [
       "Text(0.5, 1.0, 'Cars-Fuel type')"
      ]
     },
     "execution_count": 32,
     "metadata": {},
     "output_type": "execute_result"
    },
    {
     "data": {
      "image/png": "[encoded data removed]",
      "text/plain": [
       "<Figure size 720x360 with 1 Axes>"
      ]
     },
     "metadata": {
      "needs_background": "light"
     },
     "output_type": "display_data"
    }
   ],
   "source": [
    "car_fuel  = df2['fuel'].value_counts(sort=True)\n",
    "car_fuel = car_fuel\n",
    "plt.figure(figsize=(10,5))\n",
    "sns.barplot(car_fuel.index,car_fuel.values, alpha=0.9)\n",
    "plt.xlabel(\"Fuel Type\", size=15)\n",
    "plt.ylabel(\"Number of Cars\", size=15)\n",
    "plt.title(\"Cars-Fuel type\", size=18)\n"
   ]
  },
  {
   "cell_type": "code",
   "execution_count": 33,
   "metadata": {},
   "outputs": [
    {
     "data": {
      "text/plain": [
       "gas    11212\n",
       "die      867\n",
       "oth      283\n",
       "hyb      160\n",
       "ele        5\n",
       "Name: fuel, dtype: int64"
      ]
     },
     "execution_count": 33,
     "metadata": {},
     "output_type": "execute_result"
    }
   ],
   "source": [
    "df2.fuel.value_counts()"
   ]
  },
  {
   "cell_type": "code",
   "execution_count": 34,
   "metadata": {},
   "outputs": [],
   "source": [
    "#df2.manufacturer.value_counts()"
   ]
  },
  {
   "cell_type": "code",
   "execution_count": 35,
   "metadata": {},
   "outputs": [],
   "source": [
    "# manufacturer"
   ]
  },
  {
   "cell_type": "code",
   "execution_count": 36,
   "metadata": {},
   "outputs": [],
   "source": [
    "df2 = df2[~df2.manufacturer.isna()]"
   ]
  },
  {
   "cell_type": "code",
   "execution_count": 37,
   "metadata": {},
   "outputs": [],
   "source": [
    "df2.manufacturer = df2['manufacturer'].str.slice(0,3)"
   ]
  },
  {
   "cell_type": "code",
   "execution_count": 38,
   "metadata": {},
   "outputs": [
    {
     "name": "stderr",
     "output_type": "stream",
     "text": [
      "/Users/khazi/opt/anaconda3/lib/python3.8/site-packages/seaborn/_decorators.py:36: FutureWarning: Pass the following variables as keyword args: x, y. From version 0.12, the only valid positional argument will be `data`, and passing other arguments without an explicit keyword will result in an error or misinterpretation.\n",
      "  warnings.warn(\n"
     ]
    },
    {
     "data": {
      "text/plain": [
       "Text(0.5, 1.0, 'Total Cars per Manufacturer')"
      ]
     },
     "execution_count": 38,
     "metadata": {},
     "output_type": "execute_result"
    },
    {
     "data": {
      "image/png": "[encoded data removed]",
      "text/plain": [
       "<Figure size 1080x360 with 1 Axes>"
      ]
     },
     "metadata": {
      "needs_background": "light"
     },
     "output_type": "display_data"
    }
   ],
   "source": [
    "car_manu  = df2['manufacturer'].value_counts(sort=True)\n",
    "car_manu = car_manu[:15,]\n",
    "plt.figure(figsize=(15,5))\n",
    "\n",
    "sns.barplot(car_manu.index,car_manu.values, linewidth=5, alpha=0.9)\n",
    "plt.xlabel(\"Manufacturer\", size=15)\n",
    "plt.ylabel(\"Total Cars\", size=15)\n",
    "plt.title(\"Total Cars per Manufacturer\", size=18)"
   ]
  },
  {
   "cell_type": "code",
   "execution_count": 39,
   "metadata": {},
   "outputs": [
    {
     "data": {
      "text/plain": [
       "for    1961\n",
       "che    1543\n",
       "toy    1059\n",
       "hon     781\n",
       "jee     558\n",
       "nis     557\n",
       "ram     488\n",
       "vol     486\n",
       "sub     455\n",
       "gmc     409\n",
       "dod     366\n",
       "mer     351\n",
       "bmw     333\n",
       "hyu     314\n",
       "kia     261\n",
       "lex     233\n",
       "aud     214\n",
       "chr     200\n",
       "bui     174\n",
       "maz     173\n",
       "cad     164\n",
       "acu     161\n",
       "inf     140\n",
       "pon     122\n",
       "lin     101\n",
       "min      83\n",
       "mit      73\n",
       "rov      60\n",
       "por      52\n",
       "sat      51\n",
       "jag      43\n",
       "fia      21\n",
       "dat       6\n",
       "fer       2\n",
       "alf       2\n",
       "lan       1\n",
       "Name: manufacturer, dtype: int64"
      ]
     },
     "execution_count": 39,
     "metadata": {},
     "output_type": "execute_result"
    }
   ],
   "source": [
    "df2.manufacturer.value_counts()"
   ]
  },
  {
   "cell_type": "code",
   "execution_count": 42,
   "metadata": {},
   "outputs": [
    {
     "data": {
      "text/plain": [
       "Text(0.5, 1.0, 'Car prices comparision between manufacturers')"
      ]
     },
     "execution_count": 42,
     "metadata": {},
     "output_type": "execute_result"
    },
    {
     "data": {
      "image/png": "[encoded data removed]",
      "text/plain": [
       "<Figure size 1080x864 with 1 Axes>"
      ]
     },
     "metadata": {
      "needs_background": "light"
     },
     "output_type": "display_data"
    }
   ],
   "source": [
    "plt.figure(figsize=(15,12))\n",
    "ax = sns.boxplot(x = 'manufacturer', y = 'price', data = df2)\n",
    "temp = ax.set_xticklabels(ax.get_xticklabels(), rotation = 45, horizontalalignment='right')\n",
    "ax.set_title('Car prices comparision between manufacturers')"
   ]
  },
  {
   "cell_type": "code",
   "execution_count": 44,
   "metadata": {},
   "outputs": [
    {
     "data": {
      "text/html": [
       "<div>\n",
       "<style scoped>\n",
       "    .dataframe tbody tr th:only-of-type {\n",
       "        vertical-align: middle;\n",
       "    }\n",
       "\n",
       "    .dataframe tbody tr th {\n",
       "        vertical-align: top;\n",
       "    }\n",
       "\n",
       "    .dataframe thead th {\n",
       "        text-align: right;\n",
       "    }\n",
       "</style>\n",
       "<table border=\"1\" class=\"dataframe\">\n",
       "  <thead>\n",
       "    <tr style=\"text-align: right;\">\n",
       "      <th></th>\n",
       "      <th>price</th>\n",
       "      <th>year</th>\n",
       "      <th>manufacturer</th>\n",
       "      <th>cylinders</th>\n",
       "      <th>fuel</th>\n",
       "      <th>transmission</th>\n",
       "    </tr>\n",
       "  </thead>\n",
       "  <tbody>\n",
       "    <tr>\n",
       "      <th>4923</th>\n",
       "      <td>162995</td>\n",
       "      <td>2018</td>\n",
       "      <td>por</td>\n",
       "      <td>6</td>\n",
       "      <td>gas</td>\n",
       "      <td>automatic</td>\n",
       "    </tr>\n",
       "    <tr>\n",
       "      <th>5007</th>\n",
       "      <td>155000</td>\n",
       "      <td>2020</td>\n",
       "      <td>mer</td>\n",
       "      <td>6</td>\n",
       "      <td>die</td>\n",
       "      <td>automatic</td>\n",
       "    </tr>\n",
       "    <tr>\n",
       "      <th>10477</th>\n",
       "      <td>159991</td>\n",
       "      <td>2018</td>\n",
       "      <td>por</td>\n",
       "      <td>6</td>\n",
       "      <td>gas</td>\n",
       "      <td>automatic</td>\n",
       "    </tr>\n",
       "    <tr>\n",
       "      <th>19340</th>\n",
       "      <td>159991</td>\n",
       "      <td>2018</td>\n",
       "      <td>por</td>\n",
       "      <td>6</td>\n",
       "      <td>gas</td>\n",
       "      <td>automatic</td>\n",
       "    </tr>\n",
       "  </tbody>\n",
       "</table>\n",
       "</div>"
      ],
      "text/plain": [
       "        price  year manufacturer  cylinders fuel transmission\n",
       "4923   162995  2018          por          6  gas    automatic\n",
       "5007   155000  2020          mer          6  die    automatic\n",
       "10477  159991  2018          por          6  gas    automatic\n",
       "19340  159991  2018          por          6  gas    automatic"
      ]
     },
     "execution_count": 44,
     "metadata": {},
     "output_type": "execute_result"
    }
   ],
   "source": [
    "# High end car manufacturers, Porsche and Mercedes\n",
    "df2[df2.price > 130000]"
   ]
  },
  {
   "cell_type": "code",
   "execution_count": 45,
   "metadata": {},
   "outputs": [
    {
     "data": {
      "text/plain": [
       "other        152\n",
       "automatic    137\n",
       "manual         6\n",
       "Name: transmission, dtype: int64"
      ]
     },
     "execution_count": 45,
     "metadata": {},
     "output_type": "execute_result"
    }
   ],
   "source": [
    "df2.transmission[df2.year == 2020].value_counts()"
   ]
  },
  {
   "cell_type": "code",
   "execution_count": 46,
   "metadata": {},
   "outputs": [],
   "source": [
    "#x = df2.transmission[df2.year == 2020]\n",
    "#y = df2.year[df2.year == 2020]  # \n",
    "#plt.figure(figsize=(10,5))\n",
    "#sns.barplot(y,x, alpha=0.9)"
   ]
  },
  {
   "cell_type": "code",
   "execution_count": 47,
   "metadata": {},
   "outputs": [
    {
     "data": {
      "text/plain": [
       "array(['automatic', 'manual', 'other', nan], dtype=object)"
      ]
     },
     "execution_count": 47,
     "metadata": {},
     "output_type": "execute_result"
    }
   ],
   "source": [
    "df2.transmission.unique()"
   ]
  },
  {
   "cell_type": "code",
   "execution_count": 48,
   "metadata": {},
   "outputs": [],
   "source": [
    "df2 = df2[~df2.transmission.isna()]"
   ]
  },
  {
   "cell_type": "code",
   "execution_count": 49,
   "metadata": {},
   "outputs": [
    {
     "data": {
      "text/plain": [
       "array(['aut', 'man', 'oth'], dtype=object)"
      ]
     },
     "execution_count": 49,
     "metadata": {},
     "output_type": "execute_result"
    }
   ],
   "source": [
    "df2.transmission = df2.transmission.str.slice(0,3)\n",
    "df2.transmission.unique()"
   ]
  },
  {
   "cell_type": "code",
   "execution_count": 50,
   "metadata": {},
   "outputs": [
    {
     "name": "stderr",
     "output_type": "stream",
     "text": [
      "/Users/khazi/opt/anaconda3/lib/python3.8/site-packages/seaborn/_decorators.py:36: FutureWarning: Pass the following variables as keyword args: x, y. From version 0.12, the only valid positional argument will be `data`, and passing other arguments without an explicit keyword will result in an error or misinterpretation.\n",
      "  warnings.warn(\n"
     ]
    },
    {
     "data": {
      "text/plain": [
       "Text(0.5, 1.0, 'Car type : Automatic/ Manual/ Others ')"
      ]
     },
     "execution_count": 50,
     "metadata": {},
     "output_type": "execute_result"
    },
    {
     "data": {
      "image/png": "[encoded data removed]",
      "text/plain": [
       "<Figure size 720x360 with 1 Axes>"
      ]
     },
     "metadata": {
      "needs_background": "light"
     },
     "output_type": "display_data"
    }
   ],
   "source": [
    "car_trans  = df2['transmission'].value_counts(sort=True)\n",
    "car_trans = car_trans\n",
    "plt.figure(figsize=(10,5))\n",
    "sns.barplot(car_trans.index,car_trans.values, alpha=0.9)\n",
    "plt.xlabel(\"Car Type\", size=15)\n",
    "plt.ylabel(\"Number of Cars\", size=15)\n",
    "plt.title(\"Car type : Automatic/ Manual/ Others \", size=18)"
   ]
  },
  {
   "cell_type": "code",
   "execution_count": 51,
   "metadata": {},
   "outputs": [],
   "source": [
    "## Type\n",
    "#df2 = df2[~df2.type.isna()]\n",
    "#df2 = df2.type.str.slice(0,3)"
   ]
  },
  {
   "cell_type": "code",
   "execution_count": 52,
   "metadata": {},
   "outputs": [
    {
     "data": {
      "text/html": [
       "<div>\n",
       "<style scoped>\n",
       "    .dataframe tbody tr th:only-of-type {\n",
       "        vertical-align: middle;\n",
       "    }\n",
       "\n",
       "    .dataframe tbody tr th {\n",
       "        vertical-align: top;\n",
       "    }\n",
       "\n",
       "    .dataframe thead th {\n",
       "        text-align: right;\n",
       "    }\n",
       "</style>\n",
       "<table border=\"1\" class=\"dataframe\">\n",
       "  <thead>\n",
       "    <tr style=\"text-align: right;\">\n",
       "      <th></th>\n",
       "      <th>price</th>\n",
       "      <th>year</th>\n",
       "      <th>manufacturer</th>\n",
       "      <th>cylinders</th>\n",
       "      <th>fuel</th>\n",
       "      <th>transmission</th>\n",
       "    </tr>\n",
       "  </thead>\n",
       "  <tbody>\n",
       "    <tr>\n",
       "      <th>0</th>\n",
       "      <td>6888</td>\n",
       "      <td>2014</td>\n",
       "      <td>nis</td>\n",
       "      <td>4</td>\n",
       "      <td>gas</td>\n",
       "      <td>aut</td>\n",
       "    </tr>\n",
       "    <tr>\n",
       "      <th>1</th>\n",
       "      <td>19500</td>\n",
       "      <td>1965</td>\n",
       "      <td>for</td>\n",
       "      <td>8</td>\n",
       "      <td>gas</td>\n",
       "      <td>aut</td>\n",
       "    </tr>\n",
       "    <tr>\n",
       "      <th>2</th>\n",
       "      <td>16600</td>\n",
       "      <td>2008</td>\n",
       "      <td>toy</td>\n",
       "      <td>4</td>\n",
       "      <td>gas</td>\n",
       "      <td>man</td>\n",
       "    </tr>\n",
       "    <tr>\n",
       "      <th>9</th>\n",
       "      <td>13500</td>\n",
       "      <td>2007</td>\n",
       "      <td>che</td>\n",
       "      <td>8</td>\n",
       "      <td>gas</td>\n",
       "      <td>aut</td>\n",
       "    </tr>\n",
       "    <tr>\n",
       "      <th>10</th>\n",
       "      <td>40995</td>\n",
       "      <td>2011</td>\n",
       "      <td>gmc</td>\n",
       "      <td>8</td>\n",
       "      <td>die</td>\n",
       "      <td>aut</td>\n",
       "    </tr>\n",
       "  </tbody>\n",
       "</table>\n",
       "</div>"
      ],
      "text/plain": [
       "    price  year manufacturer  cylinders fuel transmission\n",
       "0    6888  2014          nis          4  gas          aut\n",
       "1   19500  1965          for          8  gas          aut\n",
       "2   16600  2008          toy          4  gas          man\n",
       "9   13500  2007          che          8  gas          aut\n",
       "10  40995  2011          gmc          8  die          aut"
      ]
     },
     "execution_count": 52,
     "metadata": {},
     "output_type": "execute_result"
    }
   ],
   "source": [
    "df2.head()"
   ]
  },
  {
   "cell_type": "code",
   "execution_count": 53,
   "metadata": {},
   "outputs": [
    {
     "data": {
      "text/plain": [
       "price           0\n",
       "year            0\n",
       "manufacturer    0\n",
       "cylinders       0\n",
       "fuel            0\n",
       "transmission    0\n",
       "dtype: int64"
      ]
     },
     "execution_count": 53,
     "metadata": {},
     "output_type": "execute_result"
    }
   ],
   "source": [
    "df2.isnull().sum()"
   ]
  },
  {
   "cell_type": "markdown",
   "metadata": {},
   "source": [
    "## PLOTS"
   ]
  },
  {
   "cell_type": "code",
   "execution_count": 54,
   "metadata": {},
   "outputs": [
    {
     "data": {
      "text/plain": [
       "<seaborn.axisgrid.JointGrid at 0x7faaacdd27c0>"
      ]
     },
     "execution_count": 54,
     "metadata": {},
     "output_type": "execute_result"
    },
    {
     "data": {
      "image/png": "[encoded data removed]",
      "text/plain": [
       "<Figure size 432x432 with 3 Axes>"
      ]
     },
     "metadata": {
      "needs_background": "light"
     },
     "output_type": "display_data"
    }
   ],
   "source": [
    "# joint plots\n",
    "sns.jointplot(x= df2['year'], y= df2['price'], data=df2)"
   ]
  },
  {
   "cell_type": "code",
   "execution_count": 55,
   "metadata": {},
   "outputs": [
    {
     "data": {
      "text/plain": [
       "price           0\n",
       "year            0\n",
       "manufacturer    0\n",
       "cylinders       0\n",
       "fuel            0\n",
       "transmission    0\n",
       "dtype: int64"
      ]
     },
     "execution_count": 55,
     "metadata": {},
     "output_type": "execute_result"
    }
   ],
   "source": [
    "df2.isnull().sum()"
   ]
  },
  {
   "cell_type": "code",
   "execution_count": 58,
   "metadata": {},
   "outputs": [
    {
     "data": {
      "text/plain": [
       "<AxesSubplot:>"
      ]
     },
     "execution_count": 58,
     "metadata": {},
     "output_type": "execute_result"
    },
    {
     "data": {
      "image/png": "[encoded data removed]",
      "text/plain": [
       "<Figure size 432x288 with 1 Axes>"
      ]
     },
     "metadata": {
      "needs_background": "light"
     },
     "output_type": "display_data"
    }
   ],
   "source": [
    "# no more null values\n",
    "sns.heatmap(df2.isnull(), yticklabels = False, cbar=False, cmap = 'coolwarm')"
   ]
  },
  {
   "cell_type": "code",
   "execution_count": 59,
   "metadata": {},
   "outputs": [
    {
     "data": {
      "text/plain": [
       "array(['aut', 'man', 'oth'], dtype=object)"
      ]
     },
     "execution_count": 59,
     "metadata": {},
     "output_type": "execute_result"
    }
   ],
   "source": [
    "df2.transmission.unique()"
   ]
  },
  {
   "cell_type": "code",
   "execution_count": 60,
   "metadata": {},
   "outputs": [],
   "source": [
    "df2.replace({'manufacturer' \n",
    "             : {'nis' : 0, 'for' : 1, 'toy' : 2, 'che' : 3, 'gmc' : 4, 'ram' : 5, 'hon' : 6, 'aud' : 7, 'jee' : 8, \n",
    "                'min' : 9, 'hyu' : 10, 'mit' : 11, 'sub' : 12, 'mer' : 13, 'vol' : 14,'lex' : 15, 'bmw' : 16, \n",
    "                'por' : 17, 'chr' : 18, 'bui' : 19, 'dod' : 20, 'kia' : 21, 'rov' : 22, 'fia' : 23, 'maz' : 24, \n",
    "                'cad' : 25, 'inf' : 26, 'acu' : 27, 'dat' : 28, 'lin' : 29, 'sat' : 30, 'jag' : 31, 'fer' : 32, \n",
    "                'alf' : 33, 'lan' : 34, 'pon':35 }}, inplace= True)"
   ]
  },
  {
   "cell_type": "code",
   "execution_count": 61,
   "metadata": {},
   "outputs": [],
   "source": [
    "df2.replace({'fuel' : {'gas' : 0, 'die' : 1, 'hyb' : 2, 'ele' : 3, 'oth' : 4}}, inplace= True)"
   ]
  },
  {
   "cell_type": "code",
   "execution_count": 62,
   "metadata": {},
   "outputs": [],
   "source": [
    "df2.replace({'transmission' : {'aut' : 0, 'man' : 1, 'oth' : 2}}, inplace= True)"
   ]
  },
  {
   "cell_type": "code",
   "execution_count": 63,
   "metadata": {},
   "outputs": [
    {
     "data": {
      "text/html": [
       "<div>\n",
       "<style scoped>\n",
       "    .dataframe tbody tr th:only-of-type {\n",
       "        vertical-align: middle;\n",
       "    }\n",
       "\n",
       "    .dataframe tbody tr th {\n",
       "        vertical-align: top;\n",
       "    }\n",
       "\n",
       "    .dataframe thead th {\n",
       "        text-align: right;\n",
       "    }\n",
       "</style>\n",
       "<table border=\"1\" class=\"dataframe\">\n",
       "  <thead>\n",
       "    <tr style=\"text-align: right;\">\n",
       "      <th></th>\n",
       "      <th>price</th>\n",
       "      <th>year</th>\n",
       "      <th>manufacturer</th>\n",
       "      <th>cylinders</th>\n",
       "      <th>fuel</th>\n",
       "      <th>transmission</th>\n",
       "    </tr>\n",
       "  </thead>\n",
       "  <tbody>\n",
       "    <tr>\n",
       "      <th>0</th>\n",
       "      <td>6888</td>\n",
       "      <td>2014</td>\n",
       "      <td>0</td>\n",
       "      <td>4</td>\n",
       "      <td>0</td>\n",
       "      <td>0</td>\n",
       "    </tr>\n",
       "    <tr>\n",
       "      <th>1</th>\n",
       "      <td>19500</td>\n",
       "      <td>1965</td>\n",
       "      <td>1</td>\n",
       "      <td>8</td>\n",
       "      <td>0</td>\n",
       "      <td>0</td>\n",
       "    </tr>\n",
       "    <tr>\n",
       "      <th>2</th>\n",
       "      <td>16600</td>\n",
       "      <td>2008</td>\n",
       "      <td>2</td>\n",
       "      <td>4</td>\n",
       "      <td>0</td>\n",
       "      <td>1</td>\n",
       "    </tr>\n",
       "    <tr>\n",
       "      <th>9</th>\n",
       "      <td>13500</td>\n",
       "      <td>2007</td>\n",
       "      <td>3</td>\n",
       "      <td>8</td>\n",
       "      <td>0</td>\n",
       "      <td>0</td>\n",
       "    </tr>\n",
       "    <tr>\n",
       "      <th>10</th>\n",
       "      <td>40995</td>\n",
       "      <td>2011</td>\n",
       "      <td>4</td>\n",
       "      <td>8</td>\n",
       "      <td>1</td>\n",
       "      <td>0</td>\n",
       "    </tr>\n",
       "  </tbody>\n",
       "</table>\n",
       "</div>"
      ],
      "text/plain": [
       "    price  year  manufacturer  cylinders  fuel  transmission\n",
       "0    6888  2014             0          4     0             0\n",
       "1   19500  1965             1          8     0             0\n",
       "2   16600  2008             2          4     0             1\n",
       "9   13500  2007             3          8     0             0\n",
       "10  40995  2011             4          8     1             0"
      ]
     },
     "execution_count": 63,
     "metadata": {},
     "output_type": "execute_result"
    }
   ],
   "source": [
    "df2.head()"
   ]
  },
  {
   "cell_type": "markdown",
   "metadata": {},
   "source": [
    "# Model 1"
   ]
  },
  {
   "cell_type": "code",
   "execution_count": 65,
   "metadata": {},
   "outputs": [],
   "source": [
    "from sklearn.linear_model import LinearRegression\n",
    "from sklearn.metrics import r2_score\n",
    "from sklearn import metrics\n",
    "from sklearn.linear_model import Lasso"
   ]
  },
  {
   "cell_type": "code",
   "execution_count": 66,
   "metadata": {},
   "outputs": [],
   "source": [
    "X = df2.drop(columns = 'price')\n",
    "y = df2['price']"
   ]
  },
  {
   "cell_type": "code",
   "execution_count": 67,
   "metadata": {},
   "outputs": [],
   "source": [
    "from sklearn.model_selection import train_test_split\n",
    "X_train, X_test, y_train, y_test = train_test_split(X,y, test_size = 0.1, random_state=2)"
   ]
  },
  {
   "cell_type": "code",
   "execution_count": 68,
   "metadata": {},
   "outputs": [],
   "source": [
    "# Linear regression"
   ]
  },
  {
   "cell_type": "code",
   "execution_count": 69,
   "metadata": {},
   "outputs": [],
   "source": [
    "lr = LinearRegression()"
   ]
  },
  {
   "cell_type": "code",
   "execution_count": 70,
   "metadata": {},
   "outputs": [
    {
     "data": {
      "text/plain": [
       "LinearRegression()"
      ]
     },
     "execution_count": 70,
     "metadata": {},
     "output_type": "execute_result"
    }
   ],
   "source": [
    "lr.fit(X_train, y_train)"
   ]
  },
  {
   "cell_type": "code",
   "execution_count": 71,
   "metadata": {},
   "outputs": [],
   "source": [
    "#Model Evaluation"
   ]
  },
  {
   "cell_type": "code",
   "execution_count": 72,
   "metadata": {},
   "outputs": [],
   "source": [
    "train_data_predict = lr.predict(X_train)"
   ]
  },
  {
   "cell_type": "code",
   "execution_count": 73,
   "metadata": {},
   "outputs": [
    {
     "name": "stdout",
     "output_type": "stream",
     "text": [
      "0.36236003914117776\n"
     ]
    }
   ],
   "source": [
    "error_score = metrics.r2_score(y_train, train_data_predict)\n",
    "print(error_score)"
   ]
  },
  {
   "cell_type": "code",
   "execution_count": 74,
   "metadata": {},
   "outputs": [],
   "source": [
    "# Visualize the actual pric and predicted prices"
   ]
  },
  {
   "cell_type": "code",
   "execution_count": 75,
   "metadata": {},
   "outputs": [
    {
     "data": {
      "image/png": "[encoded data removed]",
      "text/plain": [
       "<Figure size 432x288 with 1 Axes>"
      ]
     },
     "metadata": {
      "needs_background": "light"
     },
     "output_type": "display_data"
    }
   ],
   "source": [
    "plt.scatter(y_train, train_data_predict)\n",
    "plt.xlabel('x_train----->')\n",
    "plt.ylabel('y_train----->') \n",
    "plt.show()"
   ]
  },
  {
   "cell_type": "code",
   "execution_count": 76,
   "metadata": {},
   "outputs": [],
   "source": [
    "# predict for test_data\n",
    "test_data_predict = lr.predict(X_test)"
   ]
  },
  {
   "cell_type": "code",
   "execution_count": 77,
   "metadata": {},
   "outputs": [
    {
     "name": "stdout",
     "output_type": "stream",
     "text": [
      "0.3458061379736088\n"
     ]
    }
   ],
   "source": [
    "error_score = metrics.r2_score(y_test, test_data_predict)\n",
    "print(error_score)"
   ]
  },
  {
   "cell_type": "code",
   "execution_count": 78,
   "metadata": {},
   "outputs": [
    {
     "data": {
      "image/png": "[encoded data removed]",
      "text/plain": [
       "<Figure size 432x288 with 1 Axes>"
      ]
     },
     "metadata": {
      "needs_background": "light"
     },
     "output_type": "display_data"
    }
   ],
   "source": [
    "plt.scatter(y_test, test_data_predict) \n",
    "plt.xlabel('x_test----->')\n",
    "plt.ylabel('y_test----->') \n",
    "plt.show()"
   ]
  },
  {
   "cell_type": "markdown",
   "metadata": {},
   "source": [
    "## Model 2"
   ]
  },
  {
   "cell_type": "code",
   "execution_count": 79,
   "metadata": {},
   "outputs": [],
   "source": [
    "lass_reg_mdl = Lasso()"
   ]
  },
  {
   "cell_type": "code",
   "execution_count": 80,
   "metadata": {},
   "outputs": [
    {
     "data": {
      "text/plain": [
       "Lasso()"
      ]
     },
     "execution_count": 80,
     "metadata": {},
     "output_type": "execute_result"
    }
   ],
   "source": [
    "lass_reg_mdl.fit(X_train, y_train)"
   ]
  },
  {
   "cell_type": "code",
   "execution_count": 81,
   "metadata": {},
   "outputs": [],
   "source": [
    "# Evaluate"
   ]
  },
  {
   "cell_type": "code",
   "execution_count": 82,
   "metadata": {},
   "outputs": [],
   "source": [
    "training_data_pred = lass_reg_mdl.predict(X_train)"
   ]
  },
  {
   "cell_type": "code",
   "execution_count": 83,
   "metadata": {},
   "outputs": [],
   "source": [
    "error_met = metrics.r2_score(y_train, training_data_pred)"
   ]
  },
  {
   "cell_type": "code",
   "execution_count": 84,
   "metadata": {},
   "outputs": [
    {
     "name": "stdout",
     "output_type": "stream",
     "text": [
      "0.3623600175503141\n"
     ]
    }
   ],
   "source": [
    "print(error_met)"
   ]
  },
  {
   "cell_type": "code",
   "execution_count": 85,
   "metadata": {},
   "outputs": [
    {
     "data": {
      "image/png": "[encoded data removed]",
      "text/plain": [
       "<Figure size 432x288 with 1 Axes>"
      ]
     },
     "metadata": {
      "needs_background": "light"
     },
     "output_type": "display_data"
    }
   ],
   "source": [
    "plt.scatter(y_train, training_data_pred) \n",
    "plt.xlabel('x_train----->')\n",
    "plt.ylabel('y_train----->') \n",
    "plt.show()"
   ]
  },
  {
   "cell_type": "code",
   "execution_count": 86,
   "metadata": {},
   "outputs": [],
   "source": [
    "test_data_pred = lass_reg_mdl.predict(X_test)"
   ]
  },
  {
   "cell_type": "code",
   "execution_count": 87,
   "metadata": {},
   "outputs": [],
   "source": [
    "error_met = metrics.r2_score(y_test, test_data_pred)"
   ]
  },
  {
   "cell_type": "code",
   "execution_count": 88,
   "metadata": {},
   "outputs": [
    {
     "name": "stdout",
     "output_type": "stream",
     "text": [
      "0.3457874605392801\n"
     ]
    }
   ],
   "source": [
    "print(error_met)"
   ]
  },
  {
   "cell_type": "code",
   "execution_count": 89,
   "metadata": {},
   "outputs": [
    {
     "data": {
      "image/png": "[encoded data removed]",
      "text/plain": [
       "<Figure size 432x288 with 1 Axes>"
      ]
     },
     "metadata": {
      "needs_background": "light"
     },
     "output_type": "display_data"
    }
   ],
   "source": [
    "plt.scatter(y_test, test_data_pred) \n",
    "plt.xlabel('x_test----->')\n",
    "plt.ylabel('y_test----->') \n",
    "plt.show()"
   ]
  },
  {
   "cell_type": "code",
   "execution_count": null,
   "metadata": {},
   "outputs": [],
   "source": []
  },
  {
   "cell_type": "code",
   "execution_count": null,
   "metadata": {},
   "outputs": [],
   "source": []
  },
  {
   "cell_type": "code",
   "execution_count": null,
   "metadata": {},
   "outputs": [],
   "source": []
  },
  {
   "cell_type": "code",
   "execution_count": null,
   "metadata": {},
   "outputs": [],
   "source": []
  },
  {
   "cell_type": "code",
   "execution_count": null,
   "metadata": {},
   "outputs": [],
   "source": []
  },
  {
   "cell_type": "code",
   "execution_count": null,
   "metadata": {},
   "outputs": [],
   "source": []
  },
  {
   "cell_type": "code",
   "execution_count": null,
   "metadata": {},
   "outputs": [],
   "source": []
  },
  {
   "cell_type": "code",
   "execution_count": null,
   "metadata": {},
   "outputs": [],
   "source": []
  },
  {
   "cell_type": "code",
   "execution_count": null,
   "metadata": {},
   "outputs": [],
   "source": []
  },
  {
   "cell_type": "code",
   "execution_count": null,
   "metadata": {},
   "outputs": [],
   "source": []
  },
  {
   "cell_type": "code",
   "execution_count": null,
   "metadata": {},
   "outputs": [],
   "source": []
  },
  {
   "cell_type": "code",
   "execution_count": null,
   "metadata": {},
   "outputs": [],
   "source": []
  },
  {
   "cell_type": "code",
   "execution_count": null,
   "metadata": {},
   "outputs": [],
   "source": []
  },
  {
   "cell_type": "code",
   "execution_count": null,
   "metadata": {},
   "outputs": [],
   "source": []
  },
  {
   "cell_type": "code",
   "execution_count": null,
   "metadata": {},
   "outputs": [],
   "source": []
  },
  {
   "cell_type": "code",
   "execution_count": null,
   "metadata": {},
   "outputs": [],
   "source": []
  },
  {
   "cell_type": "code",
   "execution_count": null,
   "metadata": {},
   "outputs": [],
   "source": []
  },
  {
   "cell_type": "code",
   "execution_count": null,
   "metadata": {},
   "outputs": [],
   "source": []
  },
  {
   "cell_type": "code",
   "execution_count": null,
   "metadata": {},
   "outputs": [],
   "source": []
  },
  {
   "cell_type": "code",
   "execution_count": null,
   "metadata": {},
   "outputs": [],
   "source": []
  },
  {
   "cell_type": "code",
   "execution_count": null,
   "metadata": {},
   "outputs": [],
   "source": []
  },
  {
   "cell_type": "code",
   "execution_count": null,
   "metadata": {},
   "outputs": [],
   "source": []
  },
  {
   "cell_type": "code",
   "execution_count": null,
   "metadata": {},
   "outputs": [],
   "source": []
  },
  {
   "cell_type": "code",
   "execution_count": null,
   "metadata": {},
   "outputs": [],
   "source": []
  },
  {
   "cell_type": "code",
   "execution_count": null,
   "metadata": {},
   "outputs": [],
   "source": []
  },
  {
   "cell_type": "markdown",
   "metadata": {},
   "source": [
    "## Practice work"
   ]
  },
  {
   "cell_type": "code",
   "execution_count": null,
   "metadata": {},
   "outputs": [],
   "source": [
    "X = df2.drop(columns = 'price')\n",
    "y = df2['price']"
   ]
  },
  {
   "cell_type": "code",
   "execution_count": null,
   "metadata": {},
   "outputs": [],
   "source": [
    "from sklearn.model_selection import train_test_split\n",
    "X_train, X_test, y_train, y_test = train_test_split(X,y, test_size = 0.2)"
   ]
  },
  {
   "cell_type": "code",
   "execution_count": null,
   "metadata": {},
   "outputs": [],
   "source": [
    "from sklearn.linear_model import LinearRegression\n",
    "from sklearn.metrics import r2_score\n",
    "from sklearn.preprocessing import OneHotEncoder\n",
    "from sklearn.compose import make_column_transformer\n",
    "from sklearn.pipeline import make_pipeline"
   ]
  },
  {
   "cell_type": "code",
   "execution_count": null,
   "metadata": {},
   "outputs": [],
   "source": [
    "ohe = OneHotEncoder()\n",
    "ohe.fit(X[['manufacturer','fuel','transmission']])"
   ]
  },
  {
   "cell_type": "code",
   "execution_count": null,
   "metadata": {},
   "outputs": [],
   "source": [
    "ohe.categories_"
   ]
  },
  {
   "cell_type": "code",
   "execution_count": null,
   "metadata": {},
   "outputs": [],
   "source": [
    "column_trans = make_column_transformer((OneHotEncoder(categories = ohe.categories_), ['manufacturer','fuel','transmission']), remainder='passthrough')"
   ]
  },
  {
   "cell_type": "code",
   "execution_count": null,
   "metadata": {},
   "outputs": [],
   "source": [
    "lr = LinearRegression()"
   ]
  },
  {
   "cell_type": "code",
   "execution_count": null,
   "metadata": {},
   "outputs": [],
   "source": [
    "pipe = make_pipeline(column_trans, lr)"
   ]
  },
  {
   "cell_type": "code",
   "execution_count": null,
   "metadata": {},
   "outputs": [],
   "source": [
    "pipe.fit(X_train, y_train)"
   ]
  },
  {
   "cell_type": "code",
   "execution_count": null,
   "metadata": {},
   "outputs": [],
   "source": [
    "y_pred = pipe.predict(X_test)"
   ]
  },
  {
   "cell_type": "code",
   "execution_count": null,
   "metadata": {},
   "outputs": [],
   "source": [
    "y_pred"
   ]
  },
  {
   "cell_type": "code",
   "execution_count": null,
   "metadata": {},
   "outputs": [],
   "source": [
    "r2_score(y_test, y_pred) "
   ]
  },
  {
   "cell_type": "code",
   "execution_count": null,
   "metadata": {},
   "outputs": [],
   "source": []
  },
  {
   "cell_type": "code",
   "execution_count": null,
   "metadata": {},
   "outputs": [],
   "source": [
    "score = []\n",
    "for i in range(10):\n",
    "    X_train, X_test, y_train, y_test = train_test_split(X,y, test_size = 0.2, random_state = i)\n",
    "    lr = LinearRegression()\n",
    "    pipe = make_pipeline(column_trans, lr)\n",
    "    pipe.fit(X_train, y_train)\n",
    "    y_pred = pipe.predict(X_test)\n",
    "    print(r2_score(y_test, y_pred))\n",
    "    score.append(r2_score(y_test, y_pred))"
   ]
  },
  {
   "cell_type": "code",
   "execution_count": null,
   "metadata": {},
   "outputs": [],
   "source": [
    "np.argmax(score)"
   ]
  },
  {
   "cell_type": "code",
   "execution_count": null,
   "metadata": {},
   "outputs": [],
   "source": [
    "score[np.argmax(score)]"
   ]
  },
  {
   "cell_type": "code",
   "execution_count": null,
   "metadata": {},
   "outputs": [],
   "source": []
  },
  {
   "cell_type": "code",
   "execution_count": null,
   "metadata": {},
   "outputs": [],
   "source": []
  },
  {
   "cell_type": "code",
   "execution_count": null,
   "metadata": {},
   "outputs": [],
   "source": []
  },
  {
   "cell_type": "code",
   "execution_count": null,
   "metadata": {},
   "outputs": [],
   "source": []
  },
  {
   "cell_type": "code",
   "execution_count": null,
   "metadata": {},
   "outputs": [],
   "source": []
  },
  {
   "cell_type": "code",
   "execution_count": null,
   "metadata": {},
   "outputs": [],
   "source": [
    "df = auto_xls[['price', 'year', 'manufacturer', 'cylinders', 'fuel', 'odometer','transmission','drive', 'type']]"
   ]
  },
  {
   "cell_type": "code",
   "execution_count": null,
   "metadata": {},
   "outputs": [],
   "source": [
    "def cyl(temp):\n",
    "    x = str(temp).split(' ')\n",
    "    return(str(x[0]))"
   ]
  },
  {
   "cell_type": "code",
   "execution_count": null,
   "metadata": {},
   "outputs": [],
   "source": [
    "df.cylinders = df.cylinders.apply(cyl)"
   ]
  },
  {
   "cell_type": "code",
   "execution_count": null,
   "metadata": {},
   "outputs": [],
   "source": [
    "def prices(tmp):\n",
    "    if ((len(str(tmp)) > 5) or (len(str(tmp)) < 4)):\n",
    "        return(np.NAN)\n",
    "    else:\n",
    "        return(tmp)"
   ]
  },
  {
   "cell_type": "code",
   "execution_count": null,
   "metadata": {},
   "outputs": [],
   "source": [
    "df.price = df.price.apply(prices)"
   ]
  },
  {
   "cell_type": "code",
   "execution_count": null,
   "metadata": {},
   "outputs": [],
   "source": [
    "def year_extract(year):\n",
    "    if len(str(year)) > 4:\n",
    "        return(np.NaN)\n",
    "    else:\n",
    "        return(str(year))"
   ]
  },
  {
   "cell_type": "code",
   "execution_count": null,
   "metadata": {},
   "outputs": [],
   "source": [
    "df['year'] = df.year.apply(year_extract)"
   ]
  },
  {
   "cell_type": "code",
   "execution_count": null,
   "metadata": {},
   "outputs": [],
   "source": [
    "#df.dropna(subset = ['price', 'year'], how= 'all')"
   ]
  },
  {
   "cell_type": "code",
   "execution_count": null,
   "metadata": {},
   "outputs": [],
   "source": [
    "df = df[df['price'].notna()]"
   ]
  },
  {
   "cell_type": "code",
   "execution_count": null,
   "metadata": {},
   "outputs": [],
   "source": [
    "#df.year.unique()"
   ]
  },
  {
   "cell_type": "code",
   "execution_count": null,
   "metadata": {},
   "outputs": [],
   "source": [
    "#df"
   ]
  },
  {
   "cell_type": "code",
   "execution_count": null,
   "metadata": {},
   "outputs": [],
   "source": [
    "#df.manufacturer.unique()"
   ]
  },
  {
   "cell_type": "code",
   "execution_count": null,
   "metadata": {},
   "outputs": [],
   "source": [
    "manufacturer_list = ['nissan', 'ford', 'toyota', 'chevrolet', 'gmc', 'subaru', 'dodge', 'cadillac', 'buick', 'bmw','ram', \n",
    "                     'honda', 'audi', 'jeep', 'mini', 'hyundai', 'mitsubishi', 'mercedes-benz', 'volkswagen', 'volvo', \n",
    "                     'chrysler', 'lexus', 'acura', 'porsche', 'pontiac', 'kia', 'rover', 'fiat', 'mazda', 'infiniti', \n",
    "                     'datsun', 'lincoln', 'saturn', 'jaguar', 'mercury', 'tesla', 'ferrari', 'alfa-romeo', 'harley-davidson', \n",
    "                     'aston-martin', 'land rover', 'morgan']"
   ]
  },
  {
   "cell_type": "code",
   "execution_count": null,
   "metadata": {},
   "outputs": [],
   "source": [
    "def manufacturer_extract(temp):\n",
    "    if temp in manufacturer_list:\n",
    "        return(temp)\n",
    "    else:\n",
    "        return(np.NAN)\n",
    "\n",
    "def fuel_extract(temp):\n",
    "    if temp in fuel_type:\n",
    "        return(temp)\n",
    "    else:\n",
    "        return(np.NAN)"
   ]
  },
  {
   "cell_type": "code",
   "execution_count": null,
   "metadata": {},
   "outputs": [],
   "source": [
    "df.manufacturer = df.manufacturer.apply(manufacturer_extract)"
   ]
  },
  {
   "cell_type": "code",
   "execution_count": null,
   "metadata": {},
   "outputs": [],
   "source": [
    "df.fuel.unique()"
   ]
  },
  {
   "cell_type": "code",
   "execution_count": null,
   "metadata": {},
   "outputs": [],
   "source": [
    "fuel_type = ['gas', 'diesel', 'hybrid', 'electric']"
   ]
  },
  {
   "cell_type": "code",
   "execution_count": null,
   "metadata": {},
   "outputs": [],
   "source": [
    "df.fuel = df.fuel.apply(fuel_extract)"
   ]
  },
  {
   "cell_type": "code",
   "execution_count": null,
   "metadata": {},
   "outputs": [],
   "source": []
  }
 ],
 "metadata": {
  "kernelspec": {
   "display_name": "Python 3",
   "language": "python",
   "name": "python3"
  },
  "language_info": {
   "codemirror_mode": {
    "name": "ipython",
    "version": 3
   },
   "file_extension": ".py",
   "mimetype": "text/x-python",
   "name": "python",
   "nbconvert_exporter": "python",
   "pygments_lexer": "ipython3",
   "version": "3.8.5"
  }
 },
 "nbformat": 4,
 "nbformat_minor": 4
}
